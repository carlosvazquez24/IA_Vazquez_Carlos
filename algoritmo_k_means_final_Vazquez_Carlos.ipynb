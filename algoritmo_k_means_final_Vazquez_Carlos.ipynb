{
 "cells": [
  {
   "cell_type": "code",
   "execution_count": 1,
   "metadata": {},
   "outputs": [],
   "source": [
    "import pandas as pd\n",
    "import numpy as np\n",
    "import matplotlib.pyplot as plt\n",
    "from sklearn.cluster import KMeans\n",
    "%matplotlib inline"
   ]
  },
  {
   "cell_type": "markdown",
   "metadata": {},
   "source": [
    "### Cargamos los datos en dataframes"
   ]
  },
  {
   "cell_type": "code",
   "execution_count": 2,
   "metadata": {},
   "outputs": [],
   "source": [
    "df1 = pd.read_csv('C:/Users/CARLOS/Desktop/IA/AI_Proyect/AI_Proyect/sims_All_Genomes_13V_0_536.txt', sep = ',', header =None, engine='python')\n",
    "df2 = pd.read_table('C:/Users/CARLOS/Desktop/IA/AI_Proyect/AI_Proyect/sims_All_Genomes_13V_500_800.txt', sep = ',', header = None, engine='python')\n",
    "df3 = pd.read_table('C:/Users/CARLOS/Desktop/IA/AI_Proyect/AI_Proyect/sims_All_Genomes_13V_800_1300.txt',sep = ',',header =None, engine='python')\n",
    "df4 = pd.read_table('C:/Users/CARLOS/Desktop/IA/AI_Proyect/AI_Proyect/sims_All_Genomes_13V_1300_2000.txt', sep = ',', header=None, engine='python')\n",
    "df5 = pd.read_table('C:/Users/CARLOS/Desktop/IA/AI_Proyect/AI_Proyect/sims_All_Genomes_13V_2000_2350.txt', sep=',', header =None)\n",
    "df6 = pd.read_table('C:/Users/CARLOS/Desktop/IA/AI_Proyect/AI_Proyect/sims_All_Genomes_13V_2350_3222.txt', sep = ',', header=None)\n"
   ]
  },
  {
   "cell_type": "markdown",
   "metadata": {},
   "source": [
    "### Una vez cargados los archivos en los dataframes. Se eliminarán los datos repetidos "
   ]
  },
  {
   "cell_type": "code",
   "execution_count": 3,
   "metadata": {},
   "outputs": [],
   "source": [
    "df1 = df1.drop(range(500,536))\n",
    "df2 = df2.drop(range(300,323))\n",
    "df3 = df3.drop(range(500,509))\n",
    "df4 = df4.drop(range(700,740))\n",
    "df5 = df5.drop(range(350,395))"
   ]
  },
  {
   "cell_type": "markdown",
   "metadata": {},
   "source": [
    "### Se concatenan los dataframe para formar una matriz triangular superior"
   ]
  },
  {
   "cell_type": "code",
   "execution_count": 4,
   "metadata": {},
   "outputs": [],
   "source": [
    "df_concatenado = pd.concat([df1,df2,df3,df4,df5,df6])"
   ]
  },
  {
   "cell_type": "markdown",
   "metadata": {},
   "source": [
    "### Se agrega una fila y columna para agregar una nueva diagonal de 1's"
   ]
  },
  {
   "cell_type": "code",
   "execution_count": 5,
   "metadata": {},
   "outputs": [],
   "source": [
    "fila_nueva = []\n",
    "fila_nueva.append(None)\n",
    "df_concatenado = df_concatenado.append(fila_nueva, ignore_index=True)"
   ]
  },
  {
   "cell_type": "code",
   "execution_count": 6,
   "metadata": {},
   "outputs": [],
   "source": [
    "nueva_columna = []\n",
    "for i in range(0,3222):\n",
    "    nueva_columna.append(None)\n",
    "df_concatenado[3221] = nueva_columna"
   ]
  },
  {
   "cell_type": "code",
   "execution_count": 7,
   "metadata": {},
   "outputs": [],
   "source": [
    "for i in range(0,3222):\n",
    "    df_concatenado.iat[i,3221-i] = 1"
   ]
  },
  {
   "cell_type": "code",
   "execution_count": 8,
   "metadata": {},
   "outputs": [
    {
     "data": {
      "text/html": [
       "<div>\n",
       "<style scoped>\n",
       "    .dataframe tbody tr th:only-of-type {\n",
       "        vertical-align: middle;\n",
       "    }\n",
       "\n",
       "    .dataframe tbody tr th {\n",
       "        vertical-align: top;\n",
       "    }\n",
       "\n",
       "    .dataframe thead th {\n",
       "        text-align: right;\n",
       "    }\n",
       "</style>\n",
       "<table border=\"1\" class=\"dataframe\">\n",
       "  <thead>\n",
       "    <tr style=\"text-align: right;\">\n",
       "      <th></th>\n",
       "      <th>0</th>\n",
       "      <th>1</th>\n",
       "      <th>2</th>\n",
       "      <th>3</th>\n",
       "      <th>4</th>\n",
       "      <th>5</th>\n",
       "      <th>6</th>\n",
       "      <th>7</th>\n",
       "      <th>8</th>\n",
       "      <th>9</th>\n",
       "      <th>...</th>\n",
       "      <th>3212</th>\n",
       "      <th>3213</th>\n",
       "      <th>3214</th>\n",
       "      <th>3215</th>\n",
       "      <th>3216</th>\n",
       "      <th>3217</th>\n",
       "      <th>3218</th>\n",
       "      <th>3219</th>\n",
       "      <th>3220</th>\n",
       "      <th>3221</th>\n",
       "    </tr>\n",
       "  </thead>\n",
       "  <tbody>\n",
       "    <tr>\n",
       "      <th>0</th>\n",
       "      <td>0.000016</td>\n",
       "      <td>0.000004</td>\n",
       "      <td>1.820420e-05</td>\n",
       "      <td>0.000016</td>\n",
       "      <td>0.000005</td>\n",
       "      <td>0.004489</td>\n",
       "      <td>0.000007</td>\n",
       "      <td>0.438905</td>\n",
       "      <td>0.444450</td>\n",
       "      <td>0.450203</td>\n",
       "      <td>...</td>\n",
       "      <td>0.448444</td>\n",
       "      <td>0.447949</td>\n",
       "      <td>0.447964</td>\n",
       "      <td>0.448927</td>\n",
       "      <td>0.445895</td>\n",
       "      <td>0.453676</td>\n",
       "      <td>0.467578</td>\n",
       "      <td>0.434754</td>\n",
       "      <td>0.44857</td>\n",
       "      <td>1</td>\n",
       "    </tr>\n",
       "    <tr>\n",
       "      <th>1</th>\n",
       "      <td>0.000012</td>\n",
       "      <td>0.000002</td>\n",
       "      <td>4.023710e-07</td>\n",
       "      <td>0.000011</td>\n",
       "      <td>0.004468</td>\n",
       "      <td>0.000009</td>\n",
       "      <td>0.439023</td>\n",
       "      <td>0.444455</td>\n",
       "      <td>0.450205</td>\n",
       "      <td>0.443552</td>\n",
       "      <td>...</td>\n",
       "      <td>0.447953</td>\n",
       "      <td>0.447968</td>\n",
       "      <td>0.448931</td>\n",
       "      <td>0.445902</td>\n",
       "      <td>0.453681</td>\n",
       "      <td>0.467579</td>\n",
       "      <td>0.434756</td>\n",
       "      <td>0.448574</td>\n",
       "      <td>1.00000</td>\n",
       "      <td>None</td>\n",
       "    </tr>\n",
       "    <tr>\n",
       "      <th>2</th>\n",
       "      <td>0.000014</td>\n",
       "      <td>0.000012</td>\n",
       "      <td>1.062600e-06</td>\n",
       "      <td>0.004487</td>\n",
       "      <td>0.000003</td>\n",
       "      <td>0.438955</td>\n",
       "      <td>0.444464</td>\n",
       "      <td>0.450212</td>\n",
       "      <td>0.443550</td>\n",
       "      <td>0.443086</td>\n",
       "      <td>...</td>\n",
       "      <td>0.447968</td>\n",
       "      <td>0.448927</td>\n",
       "      <td>0.445901</td>\n",
       "      <td>0.453679</td>\n",
       "      <td>0.467579</td>\n",
       "      <td>0.434764</td>\n",
       "      <td>0.448575</td>\n",
       "      <td>1.000000</td>\n",
       "      <td>NaN</td>\n",
       "      <td>None</td>\n",
       "    </tr>\n",
       "    <tr>\n",
       "      <th>3</th>\n",
       "      <td>0.000001</td>\n",
       "      <td>0.000013</td>\n",
       "      <td>4.466020e-03</td>\n",
       "      <td>0.000011</td>\n",
       "      <td>0.439023</td>\n",
       "      <td>0.444456</td>\n",
       "      <td>0.450205</td>\n",
       "      <td>0.443553</td>\n",
       "      <td>0.443085</td>\n",
       "      <td>0.415969</td>\n",
       "      <td>...</td>\n",
       "      <td>0.448931</td>\n",
       "      <td>0.445902</td>\n",
       "      <td>0.453682</td>\n",
       "      <td>0.467579</td>\n",
       "      <td>0.434756</td>\n",
       "      <td>0.448574</td>\n",
       "      <td>1.000000</td>\n",
       "      <td>NaN</td>\n",
       "      <td>NaN</td>\n",
       "      <td>None</td>\n",
       "    </tr>\n",
       "    <tr>\n",
       "      <th>4</th>\n",
       "      <td>0.000012</td>\n",
       "      <td>0.004468</td>\n",
       "      <td>9.534000e-06</td>\n",
       "      <td>0.439023</td>\n",
       "      <td>0.444455</td>\n",
       "      <td>0.450205</td>\n",
       "      <td>0.443551</td>\n",
       "      <td>0.443084</td>\n",
       "      <td>0.415967</td>\n",
       "      <td>0.449071</td>\n",
       "      <td>...</td>\n",
       "      <td>0.445902</td>\n",
       "      <td>0.453681</td>\n",
       "      <td>0.467579</td>\n",
       "      <td>0.434756</td>\n",
       "      <td>0.448574</td>\n",
       "      <td>1.000000</td>\n",
       "      <td>NaN</td>\n",
       "      <td>NaN</td>\n",
       "      <td>NaN</td>\n",
       "      <td>None</td>\n",
       "    </tr>\n",
       "    <tr>\n",
       "      <th>...</th>\n",
       "      <td>...</td>\n",
       "      <td>...</td>\n",
       "      <td>...</td>\n",
       "      <td>...</td>\n",
       "      <td>...</td>\n",
       "      <td>...</td>\n",
       "      <td>...</td>\n",
       "      <td>...</td>\n",
       "      <td>...</td>\n",
       "      <td>...</td>\n",
       "      <td>...</td>\n",
       "      <td>...</td>\n",
       "      <td>...</td>\n",
       "      <td>...</td>\n",
       "      <td>...</td>\n",
       "      <td>...</td>\n",
       "      <td>...</td>\n",
       "      <td>...</td>\n",
       "      <td>...</td>\n",
       "      <td>...</td>\n",
       "      <td>...</td>\n",
       "    </tr>\n",
       "    <tr>\n",
       "      <th>3217</th>\n",
       "      <td>0.423528</td>\n",
       "      <td>0.406570</td>\n",
       "      <td>4.278330e-01</td>\n",
       "      <td>0.414146</td>\n",
       "      <td>1.000000</td>\n",
       "      <td>NaN</td>\n",
       "      <td>NaN</td>\n",
       "      <td>NaN</td>\n",
       "      <td>NaN</td>\n",
       "      <td>NaN</td>\n",
       "      <td>...</td>\n",
       "      <td>NaN</td>\n",
       "      <td>NaN</td>\n",
       "      <td>NaN</td>\n",
       "      <td>NaN</td>\n",
       "      <td>NaN</td>\n",
       "      <td>NaN</td>\n",
       "      <td>NaN</td>\n",
       "      <td>NaN</td>\n",
       "      <td>NaN</td>\n",
       "      <td>None</td>\n",
       "    </tr>\n",
       "    <tr>\n",
       "      <th>3218</th>\n",
       "      <td>0.425409</td>\n",
       "      <td>0.433879</td>\n",
       "      <td>4.172700e-01</td>\n",
       "      <td>1.000000</td>\n",
       "      <td>NaN</td>\n",
       "      <td>NaN</td>\n",
       "      <td>NaN</td>\n",
       "      <td>NaN</td>\n",
       "      <td>NaN</td>\n",
       "      <td>NaN</td>\n",
       "      <td>...</td>\n",
       "      <td>NaN</td>\n",
       "      <td>NaN</td>\n",
       "      <td>NaN</td>\n",
       "      <td>NaN</td>\n",
       "      <td>NaN</td>\n",
       "      <td>NaN</td>\n",
       "      <td>NaN</td>\n",
       "      <td>NaN</td>\n",
       "      <td>NaN</td>\n",
       "      <td>None</td>\n",
       "    </tr>\n",
       "    <tr>\n",
       "      <th>3219</th>\n",
       "      <td>0.464967</td>\n",
       "      <td>0.400860</td>\n",
       "      <td>1.000000e+00</td>\n",
       "      <td>NaN</td>\n",
       "      <td>NaN</td>\n",
       "      <td>NaN</td>\n",
       "      <td>NaN</td>\n",
       "      <td>NaN</td>\n",
       "      <td>NaN</td>\n",
       "      <td>NaN</td>\n",
       "      <td>...</td>\n",
       "      <td>NaN</td>\n",
       "      <td>NaN</td>\n",
       "      <td>NaN</td>\n",
       "      <td>NaN</td>\n",
       "      <td>NaN</td>\n",
       "      <td>NaN</td>\n",
       "      <td>NaN</td>\n",
       "      <td>NaN</td>\n",
       "      <td>NaN</td>\n",
       "      <td>None</td>\n",
       "    </tr>\n",
       "    <tr>\n",
       "      <th>3220</th>\n",
       "      <td>0.433332</td>\n",
       "      <td>1.000000</td>\n",
       "      <td>NaN</td>\n",
       "      <td>NaN</td>\n",
       "      <td>NaN</td>\n",
       "      <td>NaN</td>\n",
       "      <td>NaN</td>\n",
       "      <td>NaN</td>\n",
       "      <td>NaN</td>\n",
       "      <td>NaN</td>\n",
       "      <td>...</td>\n",
       "      <td>NaN</td>\n",
       "      <td>NaN</td>\n",
       "      <td>NaN</td>\n",
       "      <td>NaN</td>\n",
       "      <td>NaN</td>\n",
       "      <td>NaN</td>\n",
       "      <td>NaN</td>\n",
       "      <td>NaN</td>\n",
       "      <td>NaN</td>\n",
       "      <td>None</td>\n",
       "    </tr>\n",
       "    <tr>\n",
       "      <th>3221</th>\n",
       "      <td>1.000000</td>\n",
       "      <td>NaN</td>\n",
       "      <td>NaN</td>\n",
       "      <td>NaN</td>\n",
       "      <td>NaN</td>\n",
       "      <td>NaN</td>\n",
       "      <td>NaN</td>\n",
       "      <td>NaN</td>\n",
       "      <td>NaN</td>\n",
       "      <td>NaN</td>\n",
       "      <td>...</td>\n",
       "      <td>NaN</td>\n",
       "      <td>NaN</td>\n",
       "      <td>NaN</td>\n",
       "      <td>NaN</td>\n",
       "      <td>NaN</td>\n",
       "      <td>NaN</td>\n",
       "      <td>NaN</td>\n",
       "      <td>NaN</td>\n",
       "      <td>NaN</td>\n",
       "      <td>None</td>\n",
       "    </tr>\n",
       "  </tbody>\n",
       "</table>\n",
       "<p>3222 rows × 3222 columns</p>\n",
       "</div>"
      ],
      "text/plain": [
       "          0         1             2         3         4         5     \\\n",
       "0     0.000016  0.000004  1.820420e-05  0.000016  0.000005  0.004489   \n",
       "1     0.000012  0.000002  4.023710e-07  0.000011  0.004468  0.000009   \n",
       "2     0.000014  0.000012  1.062600e-06  0.004487  0.000003  0.438955   \n",
       "3     0.000001  0.000013  4.466020e-03  0.000011  0.439023  0.444456   \n",
       "4     0.000012  0.004468  9.534000e-06  0.439023  0.444455  0.450205   \n",
       "...        ...       ...           ...       ...       ...       ...   \n",
       "3217  0.423528  0.406570  4.278330e-01  0.414146  1.000000       NaN   \n",
       "3218  0.425409  0.433879  4.172700e-01  1.000000       NaN       NaN   \n",
       "3219  0.464967  0.400860  1.000000e+00       NaN       NaN       NaN   \n",
       "3220  0.433332  1.000000           NaN       NaN       NaN       NaN   \n",
       "3221  1.000000       NaN           NaN       NaN       NaN       NaN   \n",
       "\n",
       "          6         7         8         9     ...      3212      3213  \\\n",
       "0     0.000007  0.438905  0.444450  0.450203  ...  0.448444  0.447949   \n",
       "1     0.439023  0.444455  0.450205  0.443552  ...  0.447953  0.447968   \n",
       "2     0.444464  0.450212  0.443550  0.443086  ...  0.447968  0.448927   \n",
       "3     0.450205  0.443553  0.443085  0.415969  ...  0.448931  0.445902   \n",
       "4     0.443551  0.443084  0.415967  0.449071  ...  0.445902  0.453681   \n",
       "...        ...       ...       ...       ...  ...       ...       ...   \n",
       "3217       NaN       NaN       NaN       NaN  ...       NaN       NaN   \n",
       "3218       NaN       NaN       NaN       NaN  ...       NaN       NaN   \n",
       "3219       NaN       NaN       NaN       NaN  ...       NaN       NaN   \n",
       "3220       NaN       NaN       NaN       NaN  ...       NaN       NaN   \n",
       "3221       NaN       NaN       NaN       NaN  ...       NaN       NaN   \n",
       "\n",
       "          3214      3215      3216      3217      3218      3219     3220  \\\n",
       "0     0.447964  0.448927  0.445895  0.453676  0.467578  0.434754  0.44857   \n",
       "1     0.448931  0.445902  0.453681  0.467579  0.434756  0.448574  1.00000   \n",
       "2     0.445901  0.453679  0.467579  0.434764  0.448575  1.000000      NaN   \n",
       "3     0.453682  0.467579  0.434756  0.448574  1.000000       NaN      NaN   \n",
       "4     0.467579  0.434756  0.448574  1.000000       NaN       NaN      NaN   \n",
       "...        ...       ...       ...       ...       ...       ...      ...   \n",
       "3217       NaN       NaN       NaN       NaN       NaN       NaN      NaN   \n",
       "3218       NaN       NaN       NaN       NaN       NaN       NaN      NaN   \n",
       "3219       NaN       NaN       NaN       NaN       NaN       NaN      NaN   \n",
       "3220       NaN       NaN       NaN       NaN       NaN       NaN      NaN   \n",
       "3221       NaN       NaN       NaN       NaN       NaN       NaN      NaN   \n",
       "\n",
       "      3221  \n",
       "0        1  \n",
       "1     None  \n",
       "2     None  \n",
       "3     None  \n",
       "4     None  \n",
       "...    ...  \n",
       "3217  None  \n",
       "3218  None  \n",
       "3219  None  \n",
       "3220  None  \n",
       "3221  None  \n",
       "\n",
       "[3222 rows x 3222 columns]"
      ]
     },
     "execution_count": 8,
     "metadata": {},
     "output_type": "execute_result"
    }
   ],
   "source": [
    "df_concatenado"
   ]
  },
  {
   "cell_type": "markdown",
   "metadata": {},
   "source": [
    "### Como podemos observar, la matriz formada tiene una diagonal de 1's de forma invertida, asi que invertiremos los datos"
   ]
  },
  {
   "cell_type": "code",
   "execution_count": 9,
   "metadata": {},
   "outputs": [],
   "source": [
    "df_concatenado_copia = df_concatenado.copy()"
   ]
  },
  {
   "cell_type": "code",
   "execution_count": 10,
   "metadata": {},
   "outputs": [],
   "source": [
    "for i in range(3222):\n",
    "    for j in range(3222):\n",
    "        df_concatenado_copia.iat[i,j] = df_concatenado.iat[i, 3221 - j]"
   ]
  },
  {
   "cell_type": "code",
   "execution_count": 11,
   "metadata": {},
   "outputs": [
    {
     "data": {
      "text/html": [
       "<div>\n",
       "<style scoped>\n",
       "    .dataframe tbody tr th:only-of-type {\n",
       "        vertical-align: middle;\n",
       "    }\n",
       "\n",
       "    .dataframe tbody tr th {\n",
       "        vertical-align: top;\n",
       "    }\n",
       "\n",
       "    .dataframe thead th {\n",
       "        text-align: right;\n",
       "    }\n",
       "</style>\n",
       "<table border=\"1\" class=\"dataframe\">\n",
       "  <thead>\n",
       "    <tr style=\"text-align: right;\">\n",
       "      <th></th>\n",
       "      <th>0</th>\n",
       "      <th>1</th>\n",
       "      <th>2</th>\n",
       "      <th>3</th>\n",
       "      <th>4</th>\n",
       "      <th>5</th>\n",
       "      <th>6</th>\n",
       "      <th>7</th>\n",
       "      <th>8</th>\n",
       "      <th>9</th>\n",
       "      <th>...</th>\n",
       "      <th>3212</th>\n",
       "      <th>3213</th>\n",
       "      <th>3214</th>\n",
       "      <th>3215</th>\n",
       "      <th>3216</th>\n",
       "      <th>3217</th>\n",
       "      <th>3218</th>\n",
       "      <th>3219</th>\n",
       "      <th>3220</th>\n",
       "      <th>3221</th>\n",
       "    </tr>\n",
       "  </thead>\n",
       "  <tbody>\n",
       "    <tr>\n",
       "      <th>0</th>\n",
       "      <td>1.0</td>\n",
       "      <td>0.44857</td>\n",
       "      <td>0.434754</td>\n",
       "      <td>0.467578</td>\n",
       "      <td>0.453676</td>\n",
       "      <td>0.445895</td>\n",
       "      <td>0.448927</td>\n",
       "      <td>0.447964</td>\n",
       "      <td>0.447949</td>\n",
       "      <td>0.448444</td>\n",
       "      <td>...</td>\n",
       "      <td>0.450203</td>\n",
       "      <td>0.444450</td>\n",
       "      <td>0.438905</td>\n",
       "      <td>0.000007</td>\n",
       "      <td>0.004489</td>\n",
       "      <td>0.000005</td>\n",
       "      <td>0.000016</td>\n",
       "      <td>1.820420e-05</td>\n",
       "      <td>0.000004</td>\n",
       "      <td>0.000016</td>\n",
       "    </tr>\n",
       "    <tr>\n",
       "      <th>1</th>\n",
       "      <td>NaN</td>\n",
       "      <td>1.00000</td>\n",
       "      <td>0.448574</td>\n",
       "      <td>0.434756</td>\n",
       "      <td>0.467579</td>\n",
       "      <td>0.453681</td>\n",
       "      <td>0.445902</td>\n",
       "      <td>0.448931</td>\n",
       "      <td>0.447968</td>\n",
       "      <td>0.447953</td>\n",
       "      <td>...</td>\n",
       "      <td>0.443552</td>\n",
       "      <td>0.450205</td>\n",
       "      <td>0.444455</td>\n",
       "      <td>0.439023</td>\n",
       "      <td>0.000009</td>\n",
       "      <td>0.004468</td>\n",
       "      <td>0.000011</td>\n",
       "      <td>4.023710e-07</td>\n",
       "      <td>0.000002</td>\n",
       "      <td>0.000012</td>\n",
       "    </tr>\n",
       "    <tr>\n",
       "      <th>2</th>\n",
       "      <td>NaN</td>\n",
       "      <td>NaN</td>\n",
       "      <td>1.000000</td>\n",
       "      <td>0.448575</td>\n",
       "      <td>0.434764</td>\n",
       "      <td>0.467579</td>\n",
       "      <td>0.453679</td>\n",
       "      <td>0.445901</td>\n",
       "      <td>0.448927</td>\n",
       "      <td>0.447968</td>\n",
       "      <td>...</td>\n",
       "      <td>0.443086</td>\n",
       "      <td>0.443550</td>\n",
       "      <td>0.450212</td>\n",
       "      <td>0.444464</td>\n",
       "      <td>0.438955</td>\n",
       "      <td>0.000003</td>\n",
       "      <td>0.004487</td>\n",
       "      <td>1.062600e-06</td>\n",
       "      <td>0.000012</td>\n",
       "      <td>0.000014</td>\n",
       "    </tr>\n",
       "    <tr>\n",
       "      <th>3</th>\n",
       "      <td>NaN</td>\n",
       "      <td>NaN</td>\n",
       "      <td>NaN</td>\n",
       "      <td>1.000000</td>\n",
       "      <td>0.448574</td>\n",
       "      <td>0.434756</td>\n",
       "      <td>0.467579</td>\n",
       "      <td>0.453682</td>\n",
       "      <td>0.445902</td>\n",
       "      <td>0.448931</td>\n",
       "      <td>...</td>\n",
       "      <td>0.415969</td>\n",
       "      <td>0.443085</td>\n",
       "      <td>0.443553</td>\n",
       "      <td>0.450205</td>\n",
       "      <td>0.444456</td>\n",
       "      <td>0.439023</td>\n",
       "      <td>0.000011</td>\n",
       "      <td>4.466020e-03</td>\n",
       "      <td>0.000013</td>\n",
       "      <td>0.000001</td>\n",
       "    </tr>\n",
       "    <tr>\n",
       "      <th>4</th>\n",
       "      <td>NaN</td>\n",
       "      <td>NaN</td>\n",
       "      <td>NaN</td>\n",
       "      <td>NaN</td>\n",
       "      <td>1.000000</td>\n",
       "      <td>0.448574</td>\n",
       "      <td>0.434756</td>\n",
       "      <td>0.467579</td>\n",
       "      <td>0.453681</td>\n",
       "      <td>0.445902</td>\n",
       "      <td>...</td>\n",
       "      <td>0.449071</td>\n",
       "      <td>0.415967</td>\n",
       "      <td>0.443084</td>\n",
       "      <td>0.443551</td>\n",
       "      <td>0.450205</td>\n",
       "      <td>0.444455</td>\n",
       "      <td>0.439023</td>\n",
       "      <td>9.534000e-06</td>\n",
       "      <td>0.004468</td>\n",
       "      <td>0.000012</td>\n",
       "    </tr>\n",
       "    <tr>\n",
       "      <th>...</th>\n",
       "      <td>...</td>\n",
       "      <td>...</td>\n",
       "      <td>...</td>\n",
       "      <td>...</td>\n",
       "      <td>...</td>\n",
       "      <td>...</td>\n",
       "      <td>...</td>\n",
       "      <td>...</td>\n",
       "      <td>...</td>\n",
       "      <td>...</td>\n",
       "      <td>...</td>\n",
       "      <td>...</td>\n",
       "      <td>...</td>\n",
       "      <td>...</td>\n",
       "      <td>...</td>\n",
       "      <td>...</td>\n",
       "      <td>...</td>\n",
       "      <td>...</td>\n",
       "      <td>...</td>\n",
       "      <td>...</td>\n",
       "      <td>...</td>\n",
       "    </tr>\n",
       "    <tr>\n",
       "      <th>3217</th>\n",
       "      <td>NaN</td>\n",
       "      <td>NaN</td>\n",
       "      <td>NaN</td>\n",
       "      <td>NaN</td>\n",
       "      <td>NaN</td>\n",
       "      <td>NaN</td>\n",
       "      <td>NaN</td>\n",
       "      <td>NaN</td>\n",
       "      <td>NaN</td>\n",
       "      <td>NaN</td>\n",
       "      <td>...</td>\n",
       "      <td>NaN</td>\n",
       "      <td>NaN</td>\n",
       "      <td>NaN</td>\n",
       "      <td>NaN</td>\n",
       "      <td>NaN</td>\n",
       "      <td>1.000000</td>\n",
       "      <td>0.414146</td>\n",
       "      <td>4.278330e-01</td>\n",
       "      <td>0.406570</td>\n",
       "      <td>0.423528</td>\n",
       "    </tr>\n",
       "    <tr>\n",
       "      <th>3218</th>\n",
       "      <td>NaN</td>\n",
       "      <td>NaN</td>\n",
       "      <td>NaN</td>\n",
       "      <td>NaN</td>\n",
       "      <td>NaN</td>\n",
       "      <td>NaN</td>\n",
       "      <td>NaN</td>\n",
       "      <td>NaN</td>\n",
       "      <td>NaN</td>\n",
       "      <td>NaN</td>\n",
       "      <td>...</td>\n",
       "      <td>NaN</td>\n",
       "      <td>NaN</td>\n",
       "      <td>NaN</td>\n",
       "      <td>NaN</td>\n",
       "      <td>NaN</td>\n",
       "      <td>NaN</td>\n",
       "      <td>1.000000</td>\n",
       "      <td>4.172700e-01</td>\n",
       "      <td>0.433879</td>\n",
       "      <td>0.425409</td>\n",
       "    </tr>\n",
       "    <tr>\n",
       "      <th>3219</th>\n",
       "      <td>NaN</td>\n",
       "      <td>NaN</td>\n",
       "      <td>NaN</td>\n",
       "      <td>NaN</td>\n",
       "      <td>NaN</td>\n",
       "      <td>NaN</td>\n",
       "      <td>NaN</td>\n",
       "      <td>NaN</td>\n",
       "      <td>NaN</td>\n",
       "      <td>NaN</td>\n",
       "      <td>...</td>\n",
       "      <td>NaN</td>\n",
       "      <td>NaN</td>\n",
       "      <td>NaN</td>\n",
       "      <td>NaN</td>\n",
       "      <td>NaN</td>\n",
       "      <td>NaN</td>\n",
       "      <td>NaN</td>\n",
       "      <td>1.000000e+00</td>\n",
       "      <td>0.400860</td>\n",
       "      <td>0.464967</td>\n",
       "    </tr>\n",
       "    <tr>\n",
       "      <th>3220</th>\n",
       "      <td>NaN</td>\n",
       "      <td>NaN</td>\n",
       "      <td>NaN</td>\n",
       "      <td>NaN</td>\n",
       "      <td>NaN</td>\n",
       "      <td>NaN</td>\n",
       "      <td>NaN</td>\n",
       "      <td>NaN</td>\n",
       "      <td>NaN</td>\n",
       "      <td>NaN</td>\n",
       "      <td>...</td>\n",
       "      <td>NaN</td>\n",
       "      <td>NaN</td>\n",
       "      <td>NaN</td>\n",
       "      <td>NaN</td>\n",
       "      <td>NaN</td>\n",
       "      <td>NaN</td>\n",
       "      <td>NaN</td>\n",
       "      <td>NaN</td>\n",
       "      <td>1.000000</td>\n",
       "      <td>0.433332</td>\n",
       "    </tr>\n",
       "    <tr>\n",
       "      <th>3221</th>\n",
       "      <td>NaN</td>\n",
       "      <td>NaN</td>\n",
       "      <td>NaN</td>\n",
       "      <td>NaN</td>\n",
       "      <td>NaN</td>\n",
       "      <td>NaN</td>\n",
       "      <td>NaN</td>\n",
       "      <td>NaN</td>\n",
       "      <td>NaN</td>\n",
       "      <td>NaN</td>\n",
       "      <td>...</td>\n",
       "      <td>NaN</td>\n",
       "      <td>NaN</td>\n",
       "      <td>NaN</td>\n",
       "      <td>NaN</td>\n",
       "      <td>NaN</td>\n",
       "      <td>NaN</td>\n",
       "      <td>NaN</td>\n",
       "      <td>NaN</td>\n",
       "      <td>NaN</td>\n",
       "      <td>1.0</td>\n",
       "    </tr>\n",
       "  </tbody>\n",
       "</table>\n",
       "<p>3222 rows × 3222 columns</p>\n",
       "</div>"
      ],
      "text/plain": [
       "      0        1         2         3         4         5         6     \\\n",
       "0      1.0  0.44857  0.434754  0.467578  0.453676  0.445895  0.448927   \n",
       "1      NaN  1.00000  0.448574  0.434756  0.467579  0.453681  0.445902   \n",
       "2      NaN      NaN  1.000000  0.448575  0.434764  0.467579  0.453679   \n",
       "3      NaN      NaN       NaN  1.000000  0.448574  0.434756  0.467579   \n",
       "4      NaN      NaN       NaN       NaN  1.000000  0.448574  0.434756   \n",
       "...    ...      ...       ...       ...       ...       ...       ...   \n",
       "3217   NaN      NaN       NaN       NaN       NaN       NaN       NaN   \n",
       "3218   NaN      NaN       NaN       NaN       NaN       NaN       NaN   \n",
       "3219   NaN      NaN       NaN       NaN       NaN       NaN       NaN   \n",
       "3220   NaN      NaN       NaN       NaN       NaN       NaN       NaN   \n",
       "3221   NaN      NaN       NaN       NaN       NaN       NaN       NaN   \n",
       "\n",
       "          7         8         9     ...      3212      3213      3214  \\\n",
       "0     0.447964  0.447949  0.448444  ...  0.450203  0.444450  0.438905   \n",
       "1     0.448931  0.447968  0.447953  ...  0.443552  0.450205  0.444455   \n",
       "2     0.445901  0.448927  0.447968  ...  0.443086  0.443550  0.450212   \n",
       "3     0.453682  0.445902  0.448931  ...  0.415969  0.443085  0.443553   \n",
       "4     0.467579  0.453681  0.445902  ...  0.449071  0.415967  0.443084   \n",
       "...        ...       ...       ...  ...       ...       ...       ...   \n",
       "3217       NaN       NaN       NaN  ...       NaN       NaN       NaN   \n",
       "3218       NaN       NaN       NaN  ...       NaN       NaN       NaN   \n",
       "3219       NaN       NaN       NaN  ...       NaN       NaN       NaN   \n",
       "3220       NaN       NaN       NaN  ...       NaN       NaN       NaN   \n",
       "3221       NaN       NaN       NaN  ...       NaN       NaN       NaN   \n",
       "\n",
       "          3215      3216      3217      3218          3219      3220      3221  \n",
       "0     0.000007  0.004489  0.000005  0.000016  1.820420e-05  0.000004  0.000016  \n",
       "1     0.439023  0.000009  0.004468  0.000011  4.023710e-07  0.000002  0.000012  \n",
       "2     0.444464  0.438955  0.000003  0.004487  1.062600e-06  0.000012  0.000014  \n",
       "3     0.450205  0.444456  0.439023  0.000011  4.466020e-03  0.000013  0.000001  \n",
       "4     0.443551  0.450205  0.444455  0.439023  9.534000e-06  0.004468  0.000012  \n",
       "...        ...       ...       ...       ...           ...       ...       ...  \n",
       "3217       NaN       NaN  1.000000  0.414146  4.278330e-01  0.406570  0.423528  \n",
       "3218       NaN       NaN       NaN  1.000000  4.172700e-01  0.433879  0.425409  \n",
       "3219       NaN       NaN       NaN       NaN  1.000000e+00  0.400860  0.464967  \n",
       "3220       NaN       NaN       NaN       NaN           NaN  1.000000  0.433332  \n",
       "3221       NaN       NaN       NaN       NaN           NaN       NaN       1.0  \n",
       "\n",
       "[3222 rows x 3222 columns]"
      ]
     },
     "execution_count": 11,
     "metadata": {},
     "output_type": "execute_result"
    }
   ],
   "source": [
    "df_concatenado_copia"
   ]
  },
  {
   "cell_type": "markdown",
   "metadata": {},
   "source": [
    "### Le aplicamos la matriz transpuesta al dataframe anterior "
   ]
  },
  {
   "cell_type": "code",
   "execution_count": 12,
   "metadata": {},
   "outputs": [],
   "source": [
    "matriz_triangular_sup = df_concatenado_copia.to_numpy()"
   ]
  },
  {
   "cell_type": "code",
   "execution_count": 13,
   "metadata": {},
   "outputs": [],
   "source": [
    "matriz_trans = matriz_triangular_sup.transpose()"
   ]
  },
  {
   "cell_type": "code",
   "execution_count": 14,
   "metadata": {},
   "outputs": [],
   "source": [
    "#Transformamos las matrices a dataFrames\n",
    "matriz_traingular_sup_df = pd.DataFrame(data = matriz_triangular_sup)\n",
    "matriz_trans_df = pd.DataFrame(data = matriz_trans)\n",
    "\n",
    "#Creamos una copia del tamaño de las matrices para guardar los datos finales\n",
    "matriz = matriz_traingular_sup_df.copy()"
   ]
  },
  {
   "cell_type": "code",
   "execution_count": null,
   "metadata": {},
   "outputs": [],
   "source": []
  },
  {
   "cell_type": "code",
   "execution_count": 15,
   "metadata": {},
   "outputs": [],
   "source": [
    "#Sumamos los valores de las matrices\n",
    "for i in range(0,3222):\n",
    "    for j in range(0,i):\n",
    "        matriz.iat[i,j] = matriz_trans_df.iat[i,j]"
   ]
  },
  {
   "cell_type": "code",
   "execution_count": 16,
   "metadata": {},
   "outputs": [
    {
     "data": {
      "text/html": [
       "<div>\n",
       "<style scoped>\n",
       "    .dataframe tbody tr th:only-of-type {\n",
       "        vertical-align: middle;\n",
       "    }\n",
       "\n",
       "    .dataframe tbody tr th {\n",
       "        vertical-align: top;\n",
       "    }\n",
       "\n",
       "    .dataframe thead th {\n",
       "        text-align: right;\n",
       "    }\n",
       "</style>\n",
       "<table border=\"1\" class=\"dataframe\">\n",
       "  <thead>\n",
       "    <tr style=\"text-align: right;\">\n",
       "      <th></th>\n",
       "      <th>0</th>\n",
       "      <th>1</th>\n",
       "      <th>2</th>\n",
       "      <th>3</th>\n",
       "      <th>4</th>\n",
       "      <th>5</th>\n",
       "      <th>6</th>\n",
       "      <th>7</th>\n",
       "      <th>8</th>\n",
       "      <th>9</th>\n",
       "      <th>...</th>\n",
       "      <th>3212</th>\n",
       "      <th>3213</th>\n",
       "      <th>3214</th>\n",
       "      <th>3215</th>\n",
       "      <th>3216</th>\n",
       "      <th>3217</th>\n",
       "      <th>3218</th>\n",
       "      <th>3219</th>\n",
       "      <th>3220</th>\n",
       "      <th>3221</th>\n",
       "    </tr>\n",
       "  </thead>\n",
       "  <tbody>\n",
       "    <tr>\n",
       "      <th>0</th>\n",
       "      <td>1.0</td>\n",
       "      <td>0.44857</td>\n",
       "      <td>0.434754</td>\n",
       "      <td>0.467578</td>\n",
       "      <td>0.453676</td>\n",
       "      <td>0.445895</td>\n",
       "      <td>0.448927</td>\n",
       "      <td>0.447964</td>\n",
       "      <td>0.447949</td>\n",
       "      <td>0.448444</td>\n",
       "      <td>...</td>\n",
       "      <td>0.450203</td>\n",
       "      <td>0.44445</td>\n",
       "      <td>0.438905</td>\n",
       "      <td>0.000007</td>\n",
       "      <td>0.004489</td>\n",
       "      <td>0.000005</td>\n",
       "      <td>0.000016</td>\n",
       "      <td>0.000018</td>\n",
       "      <td>0.000004</td>\n",
       "      <td>0.000016</td>\n",
       "    </tr>\n",
       "    <tr>\n",
       "      <th>1</th>\n",
       "      <td>0.44857</td>\n",
       "      <td>1.0</td>\n",
       "      <td>0.448574</td>\n",
       "      <td>0.434756</td>\n",
       "      <td>0.467579</td>\n",
       "      <td>0.453681</td>\n",
       "      <td>0.445902</td>\n",
       "      <td>0.448931</td>\n",
       "      <td>0.447968</td>\n",
       "      <td>0.447953</td>\n",
       "      <td>...</td>\n",
       "      <td>0.443552</td>\n",
       "      <td>0.450205</td>\n",
       "      <td>0.444455</td>\n",
       "      <td>0.439023</td>\n",
       "      <td>0.000009</td>\n",
       "      <td>0.004468</td>\n",
       "      <td>0.000011</td>\n",
       "      <td>0.0</td>\n",
       "      <td>0.000002</td>\n",
       "      <td>0.000012</td>\n",
       "    </tr>\n",
       "    <tr>\n",
       "      <th>2</th>\n",
       "      <td>0.434754</td>\n",
       "      <td>0.448574</td>\n",
       "      <td>1.0</td>\n",
       "      <td>0.448575</td>\n",
       "      <td>0.434764</td>\n",
       "      <td>0.467579</td>\n",
       "      <td>0.453679</td>\n",
       "      <td>0.445901</td>\n",
       "      <td>0.448927</td>\n",
       "      <td>0.447968</td>\n",
       "      <td>...</td>\n",
       "      <td>0.443086</td>\n",
       "      <td>0.44355</td>\n",
       "      <td>0.450212</td>\n",
       "      <td>0.444464</td>\n",
       "      <td>0.438955</td>\n",
       "      <td>0.000003</td>\n",
       "      <td>0.004487</td>\n",
       "      <td>0.000001</td>\n",
       "      <td>0.000012</td>\n",
       "      <td>0.000014</td>\n",
       "    </tr>\n",
       "    <tr>\n",
       "      <th>3</th>\n",
       "      <td>0.467578</td>\n",
       "      <td>0.434756</td>\n",
       "      <td>0.448575</td>\n",
       "      <td>1.0</td>\n",
       "      <td>0.448574</td>\n",
       "      <td>0.434756</td>\n",
       "      <td>0.467579</td>\n",
       "      <td>0.453682</td>\n",
       "      <td>0.445902</td>\n",
       "      <td>0.448931</td>\n",
       "      <td>...</td>\n",
       "      <td>0.415969</td>\n",
       "      <td>0.443085</td>\n",
       "      <td>0.443553</td>\n",
       "      <td>0.450205</td>\n",
       "      <td>0.444456</td>\n",
       "      <td>0.439023</td>\n",
       "      <td>0.000011</td>\n",
       "      <td>0.004466</td>\n",
       "      <td>0.000013</td>\n",
       "      <td>0.000001</td>\n",
       "    </tr>\n",
       "    <tr>\n",
       "      <th>4</th>\n",
       "      <td>0.453676</td>\n",
       "      <td>0.467579</td>\n",
       "      <td>0.434764</td>\n",
       "      <td>0.448574</td>\n",
       "      <td>1.0</td>\n",
       "      <td>0.448574</td>\n",
       "      <td>0.434756</td>\n",
       "      <td>0.467579</td>\n",
       "      <td>0.453681</td>\n",
       "      <td>0.445902</td>\n",
       "      <td>...</td>\n",
       "      <td>0.449071</td>\n",
       "      <td>0.415967</td>\n",
       "      <td>0.443084</td>\n",
       "      <td>0.443551</td>\n",
       "      <td>0.450205</td>\n",
       "      <td>0.444455</td>\n",
       "      <td>0.439023</td>\n",
       "      <td>0.00001</td>\n",
       "      <td>0.004468</td>\n",
       "      <td>0.000012</td>\n",
       "    </tr>\n",
       "    <tr>\n",
       "      <th>...</th>\n",
       "      <td>...</td>\n",
       "      <td>...</td>\n",
       "      <td>...</td>\n",
       "      <td>...</td>\n",
       "      <td>...</td>\n",
       "      <td>...</td>\n",
       "      <td>...</td>\n",
       "      <td>...</td>\n",
       "      <td>...</td>\n",
       "      <td>...</td>\n",
       "      <td>...</td>\n",
       "      <td>...</td>\n",
       "      <td>...</td>\n",
       "      <td>...</td>\n",
       "      <td>...</td>\n",
       "      <td>...</td>\n",
       "      <td>...</td>\n",
       "      <td>...</td>\n",
       "      <td>...</td>\n",
       "      <td>...</td>\n",
       "      <td>...</td>\n",
       "    </tr>\n",
       "    <tr>\n",
       "      <th>3217</th>\n",
       "      <td>0.000005</td>\n",
       "      <td>0.004468</td>\n",
       "      <td>0.000003</td>\n",
       "      <td>0.439023</td>\n",
       "      <td>0.444455</td>\n",
       "      <td>0.45022</td>\n",
       "      <td>0.444144</td>\n",
       "      <td>0.4431</td>\n",
       "      <td>0.412842</td>\n",
       "      <td>0.404495</td>\n",
       "      <td>...</td>\n",
       "      <td>0.414789</td>\n",
       "      <td>0.421303</td>\n",
       "      <td>0.400933</td>\n",
       "      <td>0.432614</td>\n",
       "      <td>0.186768</td>\n",
       "      <td>1.0</td>\n",
       "      <td>0.414146</td>\n",
       "      <td>0.427833</td>\n",
       "      <td>0.40657</td>\n",
       "      <td>0.423528</td>\n",
       "    </tr>\n",
       "    <tr>\n",
       "      <th>3218</th>\n",
       "      <td>0.000016</td>\n",
       "      <td>0.000011</td>\n",
       "      <td>0.004487</td>\n",
       "      <td>0.000011</td>\n",
       "      <td>0.439023</td>\n",
       "      <td>0.444469</td>\n",
       "      <td>0.450805</td>\n",
       "      <td>0.443565</td>\n",
       "      <td>0.390429</td>\n",
       "      <td>0.420374</td>\n",
       "      <td>...</td>\n",
       "      <td>0.40989</td>\n",
       "      <td>0.415163</td>\n",
       "      <td>0.420574</td>\n",
       "      <td>0.401034</td>\n",
       "      <td>0.430965</td>\n",
       "      <td>0.414146</td>\n",
       "      <td>1.0</td>\n",
       "      <td>0.41727</td>\n",
       "      <td>0.433879</td>\n",
       "      <td>0.425409</td>\n",
       "    </tr>\n",
       "    <tr>\n",
       "      <th>3219</th>\n",
       "      <td>0.000018</td>\n",
       "      <td>0.0</td>\n",
       "      <td>0.000001</td>\n",
       "      <td>0.004466</td>\n",
       "      <td>0.00001</td>\n",
       "      <td>0.438962</td>\n",
       "      <td>0.445161</td>\n",
       "      <td>0.450218</td>\n",
       "      <td>0.39177</td>\n",
       "      <td>0.405413</td>\n",
       "      <td>...</td>\n",
       "      <td>0.007877</td>\n",
       "      <td>0.410286</td>\n",
       "      <td>0.414791</td>\n",
       "      <td>0.420607</td>\n",
       "      <td>0.408208</td>\n",
       "      <td>0.427833</td>\n",
       "      <td>0.41727</td>\n",
       "      <td>1.0</td>\n",
       "      <td>0.40086</td>\n",
       "      <td>0.464967</td>\n",
       "    </tr>\n",
       "    <tr>\n",
       "      <th>3220</th>\n",
       "      <td>0.000004</td>\n",
       "      <td>0.000002</td>\n",
       "      <td>0.000012</td>\n",
       "      <td>0.000013</td>\n",
       "      <td>0.004468</td>\n",
       "      <td>0.000001</td>\n",
       "      <td>0.439978</td>\n",
       "      <td>0.444468</td>\n",
       "      <td>0.395395</td>\n",
       "      <td>0.405928</td>\n",
       "      <td>...</td>\n",
       "      <td>0.007734</td>\n",
       "      <td>0.011651</td>\n",
       "      <td>0.40999</td>\n",
       "      <td>0.414799</td>\n",
       "      <td>0.425185</td>\n",
       "      <td>0.40657</td>\n",
       "      <td>0.433879</td>\n",
       "      <td>0.40086</td>\n",
       "      <td>1.0</td>\n",
       "      <td>0.433332</td>\n",
       "    </tr>\n",
       "    <tr>\n",
       "      <th>3221</th>\n",
       "      <td>0.000016</td>\n",
       "      <td>0.000012</td>\n",
       "      <td>0.000014</td>\n",
       "      <td>0.000001</td>\n",
       "      <td>0.000012</td>\n",
       "      <td>0.004495</td>\n",
       "      <td>0.004493</td>\n",
       "      <td>0.438961</td>\n",
       "      <td>0.427589</td>\n",
       "      <td>0.406282</td>\n",
       "      <td>...</td>\n",
       "      <td>0.001947</td>\n",
       "      <td>0.011747</td>\n",
       "      <td>0.000186</td>\n",
       "      <td>0.409996</td>\n",
       "      <td>0.408373</td>\n",
       "      <td>0.423528</td>\n",
       "      <td>0.425409</td>\n",
       "      <td>0.464967</td>\n",
       "      <td>0.433332</td>\n",
       "      <td>1.0</td>\n",
       "    </tr>\n",
       "  </tbody>\n",
       "</table>\n",
       "<p>3222 rows × 3222 columns</p>\n",
       "</div>"
      ],
      "text/plain": [
       "          0         1         2         3         4         5         6     \\\n",
       "0          1.0   0.44857  0.434754  0.467578  0.453676  0.445895  0.448927   \n",
       "1      0.44857       1.0  0.448574  0.434756  0.467579  0.453681  0.445902   \n",
       "2     0.434754  0.448574       1.0  0.448575  0.434764  0.467579  0.453679   \n",
       "3     0.467578  0.434756  0.448575       1.0  0.448574  0.434756  0.467579   \n",
       "4     0.453676  0.467579  0.434764  0.448574       1.0  0.448574  0.434756   \n",
       "...        ...       ...       ...       ...       ...       ...       ...   \n",
       "3217  0.000005  0.004468  0.000003  0.439023  0.444455   0.45022  0.444144   \n",
       "3218  0.000016  0.000011  0.004487  0.000011  0.439023  0.444469  0.450805   \n",
       "3219  0.000018       0.0  0.000001  0.004466   0.00001  0.438962  0.445161   \n",
       "3220  0.000004  0.000002  0.000012  0.000013  0.004468  0.000001  0.439978   \n",
       "3221  0.000016  0.000012  0.000014  0.000001  0.000012  0.004495  0.004493   \n",
       "\n",
       "          7         8         9     ...      3212      3213      3214  \\\n",
       "0     0.447964  0.447949  0.448444  ...  0.450203   0.44445  0.438905   \n",
       "1     0.448931  0.447968  0.447953  ...  0.443552  0.450205  0.444455   \n",
       "2     0.445901  0.448927  0.447968  ...  0.443086   0.44355  0.450212   \n",
       "3     0.453682  0.445902  0.448931  ...  0.415969  0.443085  0.443553   \n",
       "4     0.467579  0.453681  0.445902  ...  0.449071  0.415967  0.443084   \n",
       "...        ...       ...       ...  ...       ...       ...       ...   \n",
       "3217    0.4431  0.412842  0.404495  ...  0.414789  0.421303  0.400933   \n",
       "3218  0.443565  0.390429  0.420374  ...   0.40989  0.415163  0.420574   \n",
       "3219  0.450218   0.39177  0.405413  ...  0.007877  0.410286  0.414791   \n",
       "3220  0.444468  0.395395  0.405928  ...  0.007734  0.011651   0.40999   \n",
       "3221  0.438961  0.427589  0.406282  ...  0.001947  0.011747  0.000186   \n",
       "\n",
       "          3215      3216      3217      3218      3219      3220      3221  \n",
       "0     0.000007  0.004489  0.000005  0.000016  0.000018  0.000004  0.000016  \n",
       "1     0.439023  0.000009  0.004468  0.000011       0.0  0.000002  0.000012  \n",
       "2     0.444464  0.438955  0.000003  0.004487  0.000001  0.000012  0.000014  \n",
       "3     0.450205  0.444456  0.439023  0.000011  0.004466  0.000013  0.000001  \n",
       "4     0.443551  0.450205  0.444455  0.439023   0.00001  0.004468  0.000012  \n",
       "...        ...       ...       ...       ...       ...       ...       ...  \n",
       "3217  0.432614  0.186768       1.0  0.414146  0.427833   0.40657  0.423528  \n",
       "3218  0.401034  0.430965  0.414146       1.0   0.41727  0.433879  0.425409  \n",
       "3219  0.420607  0.408208  0.427833   0.41727       1.0   0.40086  0.464967  \n",
       "3220  0.414799  0.425185   0.40657  0.433879   0.40086       1.0  0.433332  \n",
       "3221  0.409996  0.408373  0.423528  0.425409  0.464967  0.433332       1.0  \n",
       "\n",
       "[3222 rows x 3222 columns]"
      ]
     },
     "execution_count": 16,
     "metadata": {},
     "output_type": "execute_result"
    }
   ],
   "source": [
    "matriz"
   ]
  },
  {
   "cell_type": "markdown",
   "metadata": {},
   "source": [
    "### Aplicamos el algoritmo k-means a los datos"
   ]
  },
  {
   "cell_type": "code",
   "execution_count": 17,
   "metadata": {},
   "outputs": [
    {
     "data": {
      "text/plain": [
       "KMeans(n_clusters=50)"
      ]
     },
     "execution_count": 17,
     "metadata": {},
     "output_type": "execute_result"
    }
   ],
   "source": [
    "clustering = KMeans(n_clusters = 50, max_iter = 300)\n",
    "clustering.fit(matriz)"
   ]
  },
  {
   "cell_type": "code",
   "execution_count": 18,
   "metadata": {},
   "outputs": [],
   "source": [
    "#Le asignamos la clasificación a los datos originales\n",
    "matriz['Clasificación_k_means'] = clustering.labels_"
   ]
  },
  {
   "cell_type": "code",
   "execution_count": 19,
   "metadata": {},
   "outputs": [
    {
     "data": {
      "text/html": [
       "<div>\n",
       "<style scoped>\n",
       "    .dataframe tbody tr th:only-of-type {\n",
       "        vertical-align: middle;\n",
       "    }\n",
       "\n",
       "    .dataframe tbody tr th {\n",
       "        vertical-align: top;\n",
       "    }\n",
       "\n",
       "    .dataframe thead th {\n",
       "        text-align: right;\n",
       "    }\n",
       "</style>\n",
       "<table border=\"1\" class=\"dataframe\">\n",
       "  <thead>\n",
       "    <tr style=\"text-align: right;\">\n",
       "      <th></th>\n",
       "      <th>0</th>\n",
       "      <th>1</th>\n",
       "      <th>2</th>\n",
       "      <th>3</th>\n",
       "      <th>4</th>\n",
       "      <th>5</th>\n",
       "      <th>6</th>\n",
       "      <th>7</th>\n",
       "      <th>8</th>\n",
       "      <th>9</th>\n",
       "      <th>...</th>\n",
       "      <th>3213</th>\n",
       "      <th>3214</th>\n",
       "      <th>3215</th>\n",
       "      <th>3216</th>\n",
       "      <th>3217</th>\n",
       "      <th>3218</th>\n",
       "      <th>3219</th>\n",
       "      <th>3220</th>\n",
       "      <th>3221</th>\n",
       "      <th>Clasificación_k_means</th>\n",
       "    </tr>\n",
       "  </thead>\n",
       "  <tbody>\n",
       "    <tr>\n",
       "      <th>0</th>\n",
       "      <td>1.0</td>\n",
       "      <td>0.44857</td>\n",
       "      <td>0.434754</td>\n",
       "      <td>0.467578</td>\n",
       "      <td>0.453676</td>\n",
       "      <td>0.445895</td>\n",
       "      <td>0.448927</td>\n",
       "      <td>0.447964</td>\n",
       "      <td>0.447949</td>\n",
       "      <td>0.448444</td>\n",
       "      <td>...</td>\n",
       "      <td>0.44445</td>\n",
       "      <td>0.438905</td>\n",
       "      <td>0.000007</td>\n",
       "      <td>0.004489</td>\n",
       "      <td>0.000005</td>\n",
       "      <td>0.000016</td>\n",
       "      <td>0.000018</td>\n",
       "      <td>0.000004</td>\n",
       "      <td>0.000016</td>\n",
       "      <td>13</td>\n",
       "    </tr>\n",
       "    <tr>\n",
       "      <th>1</th>\n",
       "      <td>0.44857</td>\n",
       "      <td>1.0</td>\n",
       "      <td>0.448574</td>\n",
       "      <td>0.434756</td>\n",
       "      <td>0.467579</td>\n",
       "      <td>0.453681</td>\n",
       "      <td>0.445902</td>\n",
       "      <td>0.448931</td>\n",
       "      <td>0.447968</td>\n",
       "      <td>0.447953</td>\n",
       "      <td>...</td>\n",
       "      <td>0.450205</td>\n",
       "      <td>0.444455</td>\n",
       "      <td>0.439023</td>\n",
       "      <td>0.000009</td>\n",
       "      <td>0.004468</td>\n",
       "      <td>0.000011</td>\n",
       "      <td>0.0</td>\n",
       "      <td>0.000002</td>\n",
       "      <td>0.000012</td>\n",
       "      <td>13</td>\n",
       "    </tr>\n",
       "    <tr>\n",
       "      <th>2</th>\n",
       "      <td>0.434754</td>\n",
       "      <td>0.448574</td>\n",
       "      <td>1.0</td>\n",
       "      <td>0.448575</td>\n",
       "      <td>0.434764</td>\n",
       "      <td>0.467579</td>\n",
       "      <td>0.453679</td>\n",
       "      <td>0.445901</td>\n",
       "      <td>0.448927</td>\n",
       "      <td>0.447968</td>\n",
       "      <td>...</td>\n",
       "      <td>0.44355</td>\n",
       "      <td>0.450212</td>\n",
       "      <td>0.444464</td>\n",
       "      <td>0.438955</td>\n",
       "      <td>0.000003</td>\n",
       "      <td>0.004487</td>\n",
       "      <td>0.000001</td>\n",
       "      <td>0.000012</td>\n",
       "      <td>0.000014</td>\n",
       "      <td>13</td>\n",
       "    </tr>\n",
       "    <tr>\n",
       "      <th>3</th>\n",
       "      <td>0.467578</td>\n",
       "      <td>0.434756</td>\n",
       "      <td>0.448575</td>\n",
       "      <td>1.0</td>\n",
       "      <td>0.448574</td>\n",
       "      <td>0.434756</td>\n",
       "      <td>0.467579</td>\n",
       "      <td>0.453682</td>\n",
       "      <td>0.445902</td>\n",
       "      <td>0.448931</td>\n",
       "      <td>...</td>\n",
       "      <td>0.443085</td>\n",
       "      <td>0.443553</td>\n",
       "      <td>0.450205</td>\n",
       "      <td>0.444456</td>\n",
       "      <td>0.439023</td>\n",
       "      <td>0.000011</td>\n",
       "      <td>0.004466</td>\n",
       "      <td>0.000013</td>\n",
       "      <td>0.000001</td>\n",
       "      <td>13</td>\n",
       "    </tr>\n",
       "    <tr>\n",
       "      <th>4</th>\n",
       "      <td>0.453676</td>\n",
       "      <td>0.467579</td>\n",
       "      <td>0.434764</td>\n",
       "      <td>0.448574</td>\n",
       "      <td>1.0</td>\n",
       "      <td>0.448574</td>\n",
       "      <td>0.434756</td>\n",
       "      <td>0.467579</td>\n",
       "      <td>0.453681</td>\n",
       "      <td>0.445902</td>\n",
       "      <td>...</td>\n",
       "      <td>0.415967</td>\n",
       "      <td>0.443084</td>\n",
       "      <td>0.443551</td>\n",
       "      <td>0.450205</td>\n",
       "      <td>0.444455</td>\n",
       "      <td>0.439023</td>\n",
       "      <td>0.00001</td>\n",
       "      <td>0.004468</td>\n",
       "      <td>0.000012</td>\n",
       "      <td>13</td>\n",
       "    </tr>\n",
       "    <tr>\n",
       "      <th>...</th>\n",
       "      <td>...</td>\n",
       "      <td>...</td>\n",
       "      <td>...</td>\n",
       "      <td>...</td>\n",
       "      <td>...</td>\n",
       "      <td>...</td>\n",
       "      <td>...</td>\n",
       "      <td>...</td>\n",
       "      <td>...</td>\n",
       "      <td>...</td>\n",
       "      <td>...</td>\n",
       "      <td>...</td>\n",
       "      <td>...</td>\n",
       "      <td>...</td>\n",
       "      <td>...</td>\n",
       "      <td>...</td>\n",
       "      <td>...</td>\n",
       "      <td>...</td>\n",
       "      <td>...</td>\n",
       "      <td>...</td>\n",
       "      <td>...</td>\n",
       "    </tr>\n",
       "    <tr>\n",
       "      <th>3217</th>\n",
       "      <td>0.000005</td>\n",
       "      <td>0.004468</td>\n",
       "      <td>0.000003</td>\n",
       "      <td>0.439023</td>\n",
       "      <td>0.444455</td>\n",
       "      <td>0.45022</td>\n",
       "      <td>0.444144</td>\n",
       "      <td>0.4431</td>\n",
       "      <td>0.412842</td>\n",
       "      <td>0.404495</td>\n",
       "      <td>...</td>\n",
       "      <td>0.421303</td>\n",
       "      <td>0.400933</td>\n",
       "      <td>0.432614</td>\n",
       "      <td>0.186768</td>\n",
       "      <td>1.0</td>\n",
       "      <td>0.414146</td>\n",
       "      <td>0.427833</td>\n",
       "      <td>0.40657</td>\n",
       "      <td>0.423528</td>\n",
       "      <td>11</td>\n",
       "    </tr>\n",
       "    <tr>\n",
       "      <th>3218</th>\n",
       "      <td>0.000016</td>\n",
       "      <td>0.000011</td>\n",
       "      <td>0.004487</td>\n",
       "      <td>0.000011</td>\n",
       "      <td>0.439023</td>\n",
       "      <td>0.444469</td>\n",
       "      <td>0.450805</td>\n",
       "      <td>0.443565</td>\n",
       "      <td>0.390429</td>\n",
       "      <td>0.420374</td>\n",
       "      <td>...</td>\n",
       "      <td>0.415163</td>\n",
       "      <td>0.420574</td>\n",
       "      <td>0.401034</td>\n",
       "      <td>0.430965</td>\n",
       "      <td>0.414146</td>\n",
       "      <td>1.0</td>\n",
       "      <td>0.41727</td>\n",
       "      <td>0.433879</td>\n",
       "      <td>0.425409</td>\n",
       "      <td>11</td>\n",
       "    </tr>\n",
       "    <tr>\n",
       "      <th>3219</th>\n",
       "      <td>0.000018</td>\n",
       "      <td>0.0</td>\n",
       "      <td>0.000001</td>\n",
       "      <td>0.004466</td>\n",
       "      <td>0.00001</td>\n",
       "      <td>0.438962</td>\n",
       "      <td>0.445161</td>\n",
       "      <td>0.450218</td>\n",
       "      <td>0.39177</td>\n",
       "      <td>0.405413</td>\n",
       "      <td>...</td>\n",
       "      <td>0.410286</td>\n",
       "      <td>0.414791</td>\n",
       "      <td>0.420607</td>\n",
       "      <td>0.408208</td>\n",
       "      <td>0.427833</td>\n",
       "      <td>0.41727</td>\n",
       "      <td>1.0</td>\n",
       "      <td>0.40086</td>\n",
       "      <td>0.464967</td>\n",
       "      <td>11</td>\n",
       "    </tr>\n",
       "    <tr>\n",
       "      <th>3220</th>\n",
       "      <td>0.000004</td>\n",
       "      <td>0.000002</td>\n",
       "      <td>0.000012</td>\n",
       "      <td>0.000013</td>\n",
       "      <td>0.004468</td>\n",
       "      <td>0.000001</td>\n",
       "      <td>0.439978</td>\n",
       "      <td>0.444468</td>\n",
       "      <td>0.395395</td>\n",
       "      <td>0.405928</td>\n",
       "      <td>...</td>\n",
       "      <td>0.011651</td>\n",
       "      <td>0.40999</td>\n",
       "      <td>0.414799</td>\n",
       "      <td>0.425185</td>\n",
       "      <td>0.40657</td>\n",
       "      <td>0.433879</td>\n",
       "      <td>0.40086</td>\n",
       "      <td>1.0</td>\n",
       "      <td>0.433332</td>\n",
       "      <td>11</td>\n",
       "    </tr>\n",
       "    <tr>\n",
       "      <th>3221</th>\n",
       "      <td>0.000016</td>\n",
       "      <td>0.000012</td>\n",
       "      <td>0.000014</td>\n",
       "      <td>0.000001</td>\n",
       "      <td>0.000012</td>\n",
       "      <td>0.004495</td>\n",
       "      <td>0.004493</td>\n",
       "      <td>0.438961</td>\n",
       "      <td>0.427589</td>\n",
       "      <td>0.406282</td>\n",
       "      <td>...</td>\n",
       "      <td>0.011747</td>\n",
       "      <td>0.000186</td>\n",
       "      <td>0.409996</td>\n",
       "      <td>0.408373</td>\n",
       "      <td>0.423528</td>\n",
       "      <td>0.425409</td>\n",
       "      <td>0.464967</td>\n",
       "      <td>0.433332</td>\n",
       "      <td>1.0</td>\n",
       "      <td>11</td>\n",
       "    </tr>\n",
       "  </tbody>\n",
       "</table>\n",
       "<p>3222 rows × 3223 columns</p>\n",
       "</div>"
      ],
      "text/plain": [
       "             0         1         2         3         4         5         6  \\\n",
       "0          1.0   0.44857  0.434754  0.467578  0.453676  0.445895  0.448927   \n",
       "1      0.44857       1.0  0.448574  0.434756  0.467579  0.453681  0.445902   \n",
       "2     0.434754  0.448574       1.0  0.448575  0.434764  0.467579  0.453679   \n",
       "3     0.467578  0.434756  0.448575       1.0  0.448574  0.434756  0.467579   \n",
       "4     0.453676  0.467579  0.434764  0.448574       1.0  0.448574  0.434756   \n",
       "...        ...       ...       ...       ...       ...       ...       ...   \n",
       "3217  0.000005  0.004468  0.000003  0.439023  0.444455   0.45022  0.444144   \n",
       "3218  0.000016  0.000011  0.004487  0.000011  0.439023  0.444469  0.450805   \n",
       "3219  0.000018       0.0  0.000001  0.004466   0.00001  0.438962  0.445161   \n",
       "3220  0.000004  0.000002  0.000012  0.000013  0.004468  0.000001  0.439978   \n",
       "3221  0.000016  0.000012  0.000014  0.000001  0.000012  0.004495  0.004493   \n",
       "\n",
       "             7         8         9  ...      3213      3214      3215  \\\n",
       "0     0.447964  0.447949  0.448444  ...   0.44445  0.438905  0.000007   \n",
       "1     0.448931  0.447968  0.447953  ...  0.450205  0.444455  0.439023   \n",
       "2     0.445901  0.448927  0.447968  ...   0.44355  0.450212  0.444464   \n",
       "3     0.453682  0.445902  0.448931  ...  0.443085  0.443553  0.450205   \n",
       "4     0.467579  0.453681  0.445902  ...  0.415967  0.443084  0.443551   \n",
       "...        ...       ...       ...  ...       ...       ...       ...   \n",
       "3217    0.4431  0.412842  0.404495  ...  0.421303  0.400933  0.432614   \n",
       "3218  0.443565  0.390429  0.420374  ...  0.415163  0.420574  0.401034   \n",
       "3219  0.450218   0.39177  0.405413  ...  0.410286  0.414791  0.420607   \n",
       "3220  0.444468  0.395395  0.405928  ...  0.011651   0.40999  0.414799   \n",
       "3221  0.438961  0.427589  0.406282  ...  0.011747  0.000186  0.409996   \n",
       "\n",
       "          3216      3217      3218      3219      3220      3221  \\\n",
       "0     0.004489  0.000005  0.000016  0.000018  0.000004  0.000016   \n",
       "1     0.000009  0.004468  0.000011       0.0  0.000002  0.000012   \n",
       "2     0.438955  0.000003  0.004487  0.000001  0.000012  0.000014   \n",
       "3     0.444456  0.439023  0.000011  0.004466  0.000013  0.000001   \n",
       "4     0.450205  0.444455  0.439023   0.00001  0.004468  0.000012   \n",
       "...        ...       ...       ...       ...       ...       ...   \n",
       "3217  0.186768       1.0  0.414146  0.427833   0.40657  0.423528   \n",
       "3218  0.430965  0.414146       1.0   0.41727  0.433879  0.425409   \n",
       "3219  0.408208  0.427833   0.41727       1.0   0.40086  0.464967   \n",
       "3220  0.425185   0.40657  0.433879   0.40086       1.0  0.433332   \n",
       "3221  0.408373  0.423528  0.425409  0.464967  0.433332       1.0   \n",
       "\n",
       "     Clasificación_k_means  \n",
       "0                       13  \n",
       "1                       13  \n",
       "2                       13  \n",
       "3                       13  \n",
       "4                       13  \n",
       "...                    ...  \n",
       "3217                    11  \n",
       "3218                    11  \n",
       "3219                    11  \n",
       "3220                    11  \n",
       "3221                    11  \n",
       "\n",
       "[3222 rows x 3223 columns]"
      ]
     },
     "execution_count": 19,
     "metadata": {},
     "output_type": "execute_result"
    }
   ],
   "source": [
    "matriz"
   ]
  },
  {
   "cell_type": "markdown",
   "metadata": {},
   "source": [
    "### Leemos el archivo de las familias"
   ]
  },
  {
   "cell_type": "code",
   "execution_count": 20,
   "metadata": {},
   "outputs": [
    {
     "data": {
      "text/html": [
       "<div>\n",
       "<style scoped>\n",
       "    .dataframe tbody tr th:only-of-type {\n",
       "        vertical-align: middle;\n",
       "    }\n",
       "\n",
       "    .dataframe tbody tr th {\n",
       "        vertical-align: top;\n",
       "    }\n",
       "\n",
       "    .dataframe thead th {\n",
       "        text-align: right;\n",
       "    }\n",
       "</style>\n",
       "<table border=\"1\" class=\"dataframe\">\n",
       "  <thead>\n",
       "    <tr style=\"text-align: right;\">\n",
       "      <th></th>\n",
       "      <th>0</th>\n",
       "      <th>1</th>\n",
       "      <th>2</th>\n",
       "      <th>3</th>\n",
       "      <th>4</th>\n",
       "      <th>5</th>\n",
       "    </tr>\n",
       "  </thead>\n",
       "  <tbody>\n",
       "    <tr>\n",
       "      <th>0</th>\n",
       "      <td>Acetobacteraceae</td>\n",
       "      <td>49</td>\n",
       "      <td>2361450.0</td>\n",
       "      <td>120931.0</td>\n",
       "      <td>196038.00</td>\n",
       "      <td>752842.0</td>\n",
       "    </tr>\n",
       "    <tr>\n",
       "      <th>1</th>\n",
       "      <td>Acholeplasmatales</td>\n",
       "      <td>9</td>\n",
       "      <td>29619.5</td>\n",
       "      <td>8346.5</td>\n",
       "      <td>8129.21</td>\n",
       "      <td>10460.1</td>\n",
       "    </tr>\n",
       "    <tr>\n",
       "      <th>2</th>\n",
       "      <td>Actinomycetales</td>\n",
       "      <td>13</td>\n",
       "      <td>130721.0</td>\n",
       "      <td>24304.5</td>\n",
       "      <td>28127.40</td>\n",
       "      <td>39870.4</td>\n",
       "    </tr>\n",
       "    <tr>\n",
       "      <th>3</th>\n",
       "      <td>Aeromonadaceae</td>\n",
       "      <td>30</td>\n",
       "      <td>1229090.0</td>\n",
       "      <td>100350.0</td>\n",
       "      <td>118646.00</td>\n",
       "      <td>394199.0</td>\n",
       "    </tr>\n",
       "    <tr>\n",
       "      <th>4</th>\n",
       "      <td>Alteromonadaceae</td>\n",
       "      <td>48</td>\n",
       "      <td>3197200.0</td>\n",
       "      <td>165173.0</td>\n",
       "      <td>265422.00</td>\n",
       "      <td>1000660.0</td>\n",
       "    </tr>\n",
       "    <tr>\n",
       "      <th>...</th>\n",
       "      <td>...</td>\n",
       "      <td>...</td>\n",
       "      <td>...</td>\n",
       "      <td>...</td>\n",
       "      <td>...</td>\n",
       "      <td>...</td>\n",
       "    </tr>\n",
       "    <tr>\n",
       "      <th>67</th>\n",
       "      <td>Thermotogaceae</td>\n",
       "      <td>20</td>\n",
       "      <td>253918.0</td>\n",
       "      <td>31677.2</td>\n",
       "      <td>36126.90</td>\n",
       "      <td>79448.6</td>\n",
       "    </tr>\n",
       "    <tr>\n",
       "      <th>68</th>\n",
       "      <td>unclassified Burkholderiales</td>\n",
       "      <td>12</td>\n",
       "      <td>194315.0</td>\n",
       "      <td>39471.0</td>\n",
       "      <td>45960.80</td>\n",
       "      <td>65426.4</td>\n",
       "    </tr>\n",
       "    <tr>\n",
       "      <th>69</th>\n",
       "      <td>Vibrionaceae</td>\n",
       "      <td>121</td>\n",
       "      <td>20818100.0</td>\n",
       "      <td>437094.0</td>\n",
       "      <td>0.00</td>\n",
       "      <td>6527930.0</td>\n",
       "    </tr>\n",
       "    <tr>\n",
       "      <th>70</th>\n",
       "      <td>Xanthomonadaceae</td>\n",
       "      <td>128</td>\n",
       "      <td>21748000.0</td>\n",
       "      <td>430816.0</td>\n",
       "      <td>803021.00</td>\n",
       "      <td>7425910.0</td>\n",
       "    </tr>\n",
       "    <tr>\n",
       "      <th>71</th>\n",
       "      <td>Yersiniaceae</td>\n",
       "      <td>106</td>\n",
       "      <td>15579100.0</td>\n",
       "      <td>371666.0</td>\n",
       "      <td>679625.00</td>\n",
       "      <td>4920060.0</td>\n",
       "    </tr>\n",
       "  </tbody>\n",
       "</table>\n",
       "<p>72 rows × 6 columns</p>\n",
       "</div>"
      ],
      "text/plain": [
       "                               0    1           2         3          4  \\\n",
       "0               Acetobacteraceae   49   2361450.0  120931.0  196038.00   \n",
       "1              Acholeplasmatales    9     29619.5    8346.5    8129.21   \n",
       "2                Actinomycetales   13    130721.0   24304.5   28127.40   \n",
       "3                 Aeromonadaceae   30   1229090.0  100350.0  118646.00   \n",
       "4               Alteromonadaceae   48   3197200.0  165173.0  265422.00   \n",
       "..                           ...  ...         ...       ...        ...   \n",
       "67                Thermotogaceae   20    253918.0   31677.2   36126.90   \n",
       "68  unclassified Burkholderiales   12    194315.0   39471.0   45960.80   \n",
       "69                  Vibrionaceae  121  20818100.0  437094.0       0.00   \n",
       "70              Xanthomonadaceae  128  21748000.0  430816.0  803021.00   \n",
       "71                  Yersiniaceae  106  15579100.0  371666.0  679625.00   \n",
       "\n",
       "            5  \n",
       "0    752842.0  \n",
       "1     10460.1  \n",
       "2     39870.4  \n",
       "3    394199.0  \n",
       "4   1000660.0  \n",
       "..        ...  \n",
       "67    79448.6  \n",
       "68    65426.4  \n",
       "69  6527930.0  \n",
       "70  7425910.0  \n",
       "71  4920060.0  \n",
       "\n",
       "[72 rows x 6 columns]"
      ]
     },
     "execution_count": 20,
     "metadata": {},
     "output_type": "execute_result"
    }
   ],
   "source": [
    "familie_names = pd.read_csv('C:/Users/CARLOS/Desktop/IA/AI_Proyect/AI_Proyect/familiesName.txt', sep = ';', header =None, engine='python')\n",
    "familie_names"
   ]
  },
  {
   "cell_type": "markdown",
   "metadata": {},
   "source": [
    "### Creamos los datos: source, label y value  para graficar"
   ]
  },
  {
   "cell_type": "code",
   "execution_count": 21,
   "metadata": {},
   "outputs": [],
   "source": [
    "source = pd.DataFrame( data = np.arange(0,72))"
   ]
  },
  {
   "cell_type": "code",
   "execution_count": 22,
   "metadata": {},
   "outputs": [],
   "source": [
    "label = pd.DataFrame( data = familie_names[0])"
   ]
  },
  {
   "cell_type": "code",
   "execution_count": 23,
   "metadata": {},
   "outputs": [],
   "source": [
    "value = pd.DataFrame( data = familie_names[1])"
   ]
  },
  {
   "cell_type": "markdown",
   "metadata": {},
   "source": [
    "### Creamos el vector target para relacionar los nodos"
   ]
  },
  {
   "cell_type": "code",
   "execution_count": 24,
   "metadata": {},
   "outputs": [],
   "source": [
    "target = pd.DataFrame(data = np.zeros(72))"
   ]
  },
  {
   "cell_type": "code",
   "execution_count": 25,
   "metadata": {},
   "outputs": [],
   "source": [
    "clusters_reales =  pd.DataFrame( data = np.arange(0,3222))\n"
   ]
  },
  {
   "cell_type": "code",
   "execution_count": 26,
   "metadata": {},
   "outputs": [],
   "source": [
    "indice = 0\n",
    "for i in range(72):\n",
    "    for k in range(familie_names.iat[i,1]):\n",
    "        clusters_reales.iat[indice,0] = familie_names.iat[i,1]\n",
    "        indice = indice + 1\n",
    "    "
   ]
  },
  {
   "cell_type": "code",
   "execution_count": 27,
   "metadata": {},
   "outputs": [],
   "source": [
    "contador = 0\n",
    "for i in range(3222):\n",
    "    num = clusters_reales.iat[i,0]\n",
    "    num_ant = clusters_reales.iat[i-1,0]\n",
    "    if(num != num_ant):\n",
    "        num_clasif = matriz.at[i,'Clasificación_k_means']\n",
    "        target.at[contador] = num_clasif\n",
    "        contador = contador + 1"
   ]
  },
  {
   "cell_type": "code",
   "execution_count": 28,
   "metadata": {},
   "outputs": [],
   "source": [
    "target = pd.DataFrame( data = target)"
   ]
  },
  {
   "cell_type": "code",
   "execution_count": 29,
   "metadata": {},
   "outputs": [],
   "source": [
    "for i in range(72):\n",
    "    target.iat[i, 0] = target.iat[i,0] + 72\n",
    "\n"
   ]
  },
  {
   "cell_type": "code",
   "execution_count": null,
   "metadata": {},
   "outputs": [],
   "source": []
  },
  {
   "cell_type": "markdown",
   "metadata": {},
   "source": [
    "### Transformar los dataFrames a diccionarios"
   ]
  },
  {
   "cell_type": "code",
   "execution_count": 123,
   "metadata": {},
   "outputs": [],
   "source": [
    "#Obtenemos la lista de colores de la libreria matplotlib del paquete colors\n",
    "import matplotlib.colors as colors\n",
    "colores = list(colors.cnames)\n"
   ]
  },
  {
   "cell_type": "code",
   "execution_count": 75,
   "metadata": {},
   "outputs": [],
   "source": [
    "node = dict(label = label[0], pad = 8,  thickness = 15)"
   ]
  },
  {
   "cell_type": "code",
   "execution_count": 124,
   "metadata": {},
   "outputs": [],
   "source": [
    "link = dict(source = source[0], target = target[0], value = value[1], color = colores )"
   ]
  },
  {
   "cell_type": "code",
   "execution_count": 145,
   "metadata": {},
   "outputs": [
    {
     "data": {
      "text/plain": [
       "{'label': 0                 Acetobacteraceae\n",
       " 1                Acholeplasmatales\n",
       " 2                  Actinomycetales\n",
       " 3                   Aeromonadaceae\n",
       " 4                 Alteromonadaceae\n",
       "                   ...             \n",
       " 67                  Thermotogaceae\n",
       " 68    unclassified Burkholderiales\n",
       " 69                    Vibrionaceae\n",
       " 70                Xanthomonadaceae\n",
       " 71                    Yersiniaceae\n",
       " Name: 0, Length: 72, dtype: object,\n",
       " 'pad': 8,\n",
       " 'thickness': 15}"
      ]
     },
     "execution_count": 145,
     "metadata": {},
     "output_type": "execute_result"
    }
   ],
   "source": [
    "node"
   ]
  },
  {
   "cell_type": "code",
   "execution_count": 125,
   "metadata": {},
   "outputs": [
    {
     "data": {
      "text/plain": [
       "{'source': 0      0\n",
       " 1      1\n",
       " 2      2\n",
       " 3      3\n",
       " 4      4\n",
       "       ..\n",
       " 67    67\n",
       " 68    68\n",
       " 69    69\n",
       " 70    70\n",
       " 71    71\n",
       " Name: 0, Length: 72, dtype: int32,\n",
       " 'target': 0      85.0\n",
       " 1     120.0\n",
       " 2      85.0\n",
       " 3      73.0\n",
       " 4      73.0\n",
       "       ...  \n",
       " 67     75.0\n",
       " 68     75.0\n",
       " 69    101.0\n",
       " 70    110.0\n",
       " 71     72.0\n",
       " Name: 0, Length: 72, dtype: float64,\n",
       " 'value': 0      49\n",
       " 1       9\n",
       " 2      13\n",
       " 3      30\n",
       " 4      48\n",
       "      ... \n",
       " 67     20\n",
       " 68     12\n",
       " 69    121\n",
       " 70    128\n",
       " 71    106\n",
       " Name: 1, Length: 72, dtype: int64,\n",
       " 'color': ['aliceblue',\n",
       "  'antiquewhite',\n",
       "  'aqua',\n",
       "  'aquamarine',\n",
       "  'azure',\n",
       "  'beige',\n",
       "  'bisque',\n",
       "  'black',\n",
       "  'blanchedalmond',\n",
       "  'blue',\n",
       "  'blueviolet',\n",
       "  'brown',\n",
       "  'burlywood',\n",
       "  'cadetblue',\n",
       "  'chartreuse',\n",
       "  'chocolate',\n",
       "  'coral',\n",
       "  'cornflowerblue',\n",
       "  'cornsilk',\n",
       "  'crimson',\n",
       "  'cyan',\n",
       "  'darkblue',\n",
       "  'darkcyan',\n",
       "  'darkgoldenrod',\n",
       "  'darkgray',\n",
       "  'darkgreen',\n",
       "  'darkgrey',\n",
       "  'darkkhaki',\n",
       "  'darkmagenta',\n",
       "  'darkolivegreen',\n",
       "  'darkorange',\n",
       "  'darkorchid',\n",
       "  'darkred',\n",
       "  'darksalmon',\n",
       "  'darkseagreen',\n",
       "  'darkslateblue',\n",
       "  'darkslategray',\n",
       "  'darkslategrey',\n",
       "  'darkturquoise',\n",
       "  'darkviolet',\n",
       "  'deeppink',\n",
       "  'deepskyblue',\n",
       "  'dimgray',\n",
       "  'dimgrey',\n",
       "  'dodgerblue',\n",
       "  'firebrick',\n",
       "  'floralwhite',\n",
       "  'forestgreen',\n",
       "  'fuchsia',\n",
       "  'gainsboro',\n",
       "  'ghostwhite',\n",
       "  'gold',\n",
       "  'goldenrod',\n",
       "  'gray',\n",
       "  'green',\n",
       "  'greenyellow',\n",
       "  'grey',\n",
       "  'honeydew',\n",
       "  'hotpink',\n",
       "  'indianred',\n",
       "  'indigo',\n",
       "  'ivory',\n",
       "  'khaki',\n",
       "  'lavender',\n",
       "  'lavenderblush',\n",
       "  'lawngreen',\n",
       "  'lemonchiffon',\n",
       "  'lightblue',\n",
       "  'lightcoral',\n",
       "  'lightcyan',\n",
       "  'lightgoldenrodyellow',\n",
       "  'lightgray',\n",
       "  'lightgreen',\n",
       "  'lightgrey',\n",
       "  'lightpink',\n",
       "  'lightsalmon',\n",
       "  'lightseagreen',\n",
       "  'lightskyblue',\n",
       "  'lightslategray',\n",
       "  'lightslategrey',\n",
       "  'lightsteelblue',\n",
       "  'lightyellow',\n",
       "  'lime',\n",
       "  'limegreen',\n",
       "  'linen',\n",
       "  'magenta',\n",
       "  'maroon',\n",
       "  'mediumaquamarine',\n",
       "  'mediumblue',\n",
       "  'mediumorchid',\n",
       "  'mediumpurple',\n",
       "  'mediumseagreen',\n",
       "  'mediumslateblue',\n",
       "  'mediumspringgreen',\n",
       "  'mediumturquoise',\n",
       "  'mediumvioletred',\n",
       "  'midnightblue',\n",
       "  'mintcream',\n",
       "  'mistyrose',\n",
       "  'moccasin',\n",
       "  'navajowhite',\n",
       "  'navy',\n",
       "  'oldlace',\n",
       "  'olive',\n",
       "  'olivedrab',\n",
       "  'orange',\n",
       "  'orangered',\n",
       "  'orchid',\n",
       "  'palegoldenrod',\n",
       "  'palegreen',\n",
       "  'paleturquoise',\n",
       "  'palevioletred',\n",
       "  'papayawhip',\n",
       "  'peachpuff',\n",
       "  'peru',\n",
       "  'pink',\n",
       "  'plum',\n",
       "  'powderblue',\n",
       "  'purple',\n",
       "  'rebeccapurple',\n",
       "  'red',\n",
       "  'rosybrown',\n",
       "  'royalblue',\n",
       "  'saddlebrown',\n",
       "  'salmon',\n",
       "  'sandybrown',\n",
       "  'seagreen',\n",
       "  'seashell',\n",
       "  'sienna',\n",
       "  'silver',\n",
       "  'skyblue',\n",
       "  'slateblue',\n",
       "  'slategray',\n",
       "  'slategrey',\n",
       "  'snow',\n",
       "  'springgreen',\n",
       "  'steelblue',\n",
       "  'tan',\n",
       "  'teal',\n",
       "  'thistle',\n",
       "  'tomato',\n",
       "  'turquoise',\n",
       "  'violet',\n",
       "  'wheat',\n",
       "  'white',\n",
       "  'whitesmoke',\n",
       "  'yellow',\n",
       "  'yellowgreen']}"
      ]
     },
     "execution_count": 125,
     "metadata": {},
     "output_type": "execute_result"
    }
   ],
   "source": [
    "link"
   ]
  },
  {
   "cell_type": "markdown",
   "metadata": {},
   "source": [
    "### Graficar el digrama Sankey"
   ]
  },
  {
   "cell_type": "code",
   "execution_count": 146,
   "metadata": {
    "scrolled": true
   },
   "outputs": [
    {
     "data": {
      "application/vnd.plotly.v1+json": {
       "config": {
        "plotlyServerURL": "https://plot.ly"
       },
       "data": [
        {
         "link": {
          "color": [
           "aliceblue",
           "antiquewhite",
           "aqua",
           "aquamarine",
           "azure",
           "beige",
           "bisque",
           "black",
           "blanchedalmond",
           "blue",
           "blueviolet",
           "brown",
           "burlywood",
           "cadetblue",
           "chartreuse",
           "chocolate",
           "coral",
           "cornflowerblue",
           "cornsilk",
           "crimson",
           "cyan",
           "darkblue",
           "darkcyan",
           "darkgoldenrod",
           "darkgray",
           "darkgreen",
           "darkgrey",
           "darkkhaki",
           "darkmagenta",
           "darkolivegreen",
           "darkorange",
           "darkorchid",
           "darkred",
           "darksalmon",
           "darkseagreen",
           "darkslateblue",
           "darkslategray",
           "darkslategrey",
           "darkturquoise",
           "darkviolet",
           "deeppink",
           "deepskyblue",
           "dimgray",
           "dimgrey",
           "dodgerblue",
           "firebrick",
           "floralwhite",
           "forestgreen",
           "fuchsia",
           "gainsboro",
           "ghostwhite",
           "gold",
           "goldenrod",
           "gray",
           "green",
           "greenyellow",
           "grey",
           "honeydew",
           "hotpink",
           "indianred",
           "indigo",
           "ivory",
           "khaki",
           "lavender",
           "lavenderblush",
           "lawngreen",
           "lemonchiffon",
           "lightblue",
           "lightcoral",
           "lightcyan",
           "lightgoldenrodyellow",
           "lightgray",
           "lightgreen",
           "lightgrey",
           "lightpink",
           "lightsalmon",
           "lightseagreen",
           "lightskyblue",
           "lightslategray",
           "lightslategrey",
           "lightsteelblue",
           "lightyellow",
           "lime",
           "limegreen",
           "linen",
           "magenta",
           "maroon",
           "mediumaquamarine",
           "mediumblue",
           "mediumorchid",
           "mediumpurple",
           "mediumseagreen",
           "mediumslateblue",
           "mediumspringgreen",
           "mediumturquoise",
           "mediumvioletred",
           "midnightblue",
           "mintcream",
           "mistyrose",
           "moccasin",
           "navajowhite",
           "navy",
           "oldlace",
           "olive",
           "olivedrab",
           "orange",
           "orangered",
           "orchid",
           "palegoldenrod",
           "palegreen",
           "paleturquoise",
           "palevioletred",
           "papayawhip",
           "peachpuff",
           "peru",
           "pink",
           "plum",
           "powderblue",
           "purple",
           "rebeccapurple",
           "red",
           "rosybrown",
           "royalblue",
           "saddlebrown",
           "salmon",
           "sandybrown",
           "seagreen",
           "seashell",
           "sienna",
           "silver",
           "skyblue",
           "slateblue",
           "slategray",
           "slategrey",
           "snow",
           "springgreen",
           "steelblue",
           "tan",
           "teal",
           "thistle",
           "tomato",
           "turquoise",
           "violet",
           "wheat",
           "white",
           "whitesmoke",
           "yellow",
           "yellowgreen"
          ],
          "source": [
           0,
           1,
           2,
           3,
           4,
           5,
           6,
           7,
           8,
           9,
           10,
           11,
           12,
           13,
           14,
           15,
           16,
           17,
           18,
           19,
           20,
           21,
           22,
           23,
           24,
           25,
           26,
           27,
           28,
           29,
           30,
           31,
           32,
           33,
           34,
           35,
           36,
           37,
           38,
           39,
           40,
           41,
           42,
           43,
           44,
           45,
           46,
           47,
           48,
           49,
           50,
           51,
           52,
           53,
           54,
           55,
           56,
           57,
           58,
           59,
           60,
           61,
           62,
           63,
           64,
           65,
           66,
           67,
           68,
           69,
           70,
           71
          ],
          "target": [
           85,
           120,
           85,
           73,
           73,
           85,
           85,
           85,
           85,
           95,
           94,
           98,
           103,
           121,
           102,
           120,
           118,
           90,
           120,
           102,
           113,
           113,
           113,
           113,
           113,
           81,
           81,
           120,
           104,
           102,
           102,
           77,
           78,
           77,
           79,
           114,
           109,
           114,
           106,
           108,
           87,
           87,
           89,
           103,
           76,
           76,
           96,
           114,
           119,
           114,
           119,
           114,
           114,
           116,
           72,
           112,
           107,
           92,
           92,
           92,
           92,
           114,
           117,
           99,
           115,
           115,
           75,
           75,
           75,
           101,
           110,
           72
          ],
          "value": [
           49,
           9,
           13,
           30,
           48,
           32,
           10,
           59,
           22,
           76,
           30,
           31,
           77,
           14,
           121,
           14,
           178,
           45,
           35,
           24,
           13,
           10,
           19,
           18,
           11,
           24,
           53,
           14,
           139,
           61,
           19,
           15,
           33,
           13,
           73,
           17,
           15,
           92,
           10,
           124,
           26,
           156,
           20,
           98,
           16,
           25,
           25,
           103,
           22,
           14,
           24,
           12,
           39,
           14,
           26,
           95,
           59,
           21,
           51,
           29,
           12,
           53,
           20,
           79,
           57,
           14,
           35,
           20,
           12,
           121,
           128,
           106
          ]
         },
         "node": {
          "label": [
           "Acetobacteraceae",
           "Acholeplasmatales",
           "Actinomycetales",
           "Aeromonadaceae",
           "Alteromonadaceae",
           "Anaplasmataceae",
           "Aquificaceae",
           "Bacteroidia",
           "Bartonellaceae",
           "Bifidobacteriales",
           "Borreliaceae",
           "Bradyrhizobiaceae",
           "Brucellaceae",
           "Caulobacteraceae",
           "Chlamydiales",
           "Chlorobia",
           "Clostridiales",
           "Comamonadaceae",
           "Cytophagia",
           "Dehalococcoidales",
           "Deinococcales",
           "Desulfobacterales",
           "Desulfovibrionales",
           "Desulfuromonadales",
           "Ectothiorhodospiraceae",
           "Entomoplasmatales",
           "Erwiniaceae",
           "Erythrobacteraceae",
           "Flavobacteriia",
           "Francisellaceae",
           "Fusobacteriaceae",
           "Hafniaceae",
           "Halomonadaceae",
           "Hyphomicrobiaceae",
           "Legionellaceae",
           "Leptospiraceae",
           "Methylobacteriaceae",
           "Micrococcales",
           "Micromonosporales",
           "Moraxellaceae",
           "Morganellaceae",
           "Mycoplasmatales",
           "Myxococcales",
           "Neisseriaceae",
           "Nostocales",
           "Oscillatoriophycideae",
           "Oxalobacteraceae",
           "Pasteurellaceae",
           "Pectobacteriaceae",
           "Phyllobacteriaceae",
           "Piscirickettsiaceae",
           "Planctomycetales",
           "Propionibacteriales",
           "Pseudoalteromonadaceae",
           "Pseudonocardiales",
           "Rhizobiaceae",
           "Rhodobacteraceae",
           "Rhodospirillaceae",
           "Rickettsiaceae",
           "Shewanellaceae",
           "Sphingobacteriia",
           "Sphingomonadaceae",
           "Spirochaetaceae",
           "Streptomycetales",
           "Synechococcales",
           "Thermales",
           "Thermoanaerobacterales",
           "Thermotogaceae",
           "unclassified Burkholderiales",
           "Vibrionaceae",
           "Xanthomonadaceae",
           "Yersiniaceae"
          ],
          "pad": 8,
          "thickness": 15
         },
         "type": "sankey"
        }
       ],
       "layout": {
        "font": {
         "color": "white",
         "size": 12
        },
        "height": 1300,
        "paper_bgcolor": "#51504F",
        "template": {
         "data": {
          "bar": [
           {
            "error_x": {
             "color": "#2a3f5f"
            },
            "error_y": {
             "color": "#2a3f5f"
            },
            "marker": {
             "line": {
              "color": "#E5ECF6",
              "width": 0.5
             },
             "pattern": {
              "fillmode": "overlay",
              "size": 10,
              "solidity": 0.2
             }
            },
            "type": "bar"
           }
          ],
          "barpolar": [
           {
            "marker": {
             "line": {
              "color": "#E5ECF6",
              "width": 0.5
             },
             "pattern": {
              "fillmode": "overlay",
              "size": 10,
              "solidity": 0.2
             }
            },
            "type": "barpolar"
           }
          ],
          "carpet": [
           {
            "aaxis": {
             "endlinecolor": "#2a3f5f",
             "gridcolor": "white",
             "linecolor": "white",
             "minorgridcolor": "white",
             "startlinecolor": "#2a3f5f"
            },
            "baxis": {
             "endlinecolor": "#2a3f5f",
             "gridcolor": "white",
             "linecolor": "white",
             "minorgridcolor": "white",
             "startlinecolor": "#2a3f5f"
            },
            "type": "carpet"
           }
          ],
          "choropleth": [
           {
            "colorbar": {
             "outlinewidth": 0,
             "ticks": ""
            },
            "type": "choropleth"
           }
          ],
          "contour": [
           {
            "colorbar": {
             "outlinewidth": 0,
             "ticks": ""
            },
            "colorscale": [
             [
              0,
              "#0d0887"
             ],
             [
              0.1111111111111111,
              "#46039f"
             ],
             [
              0.2222222222222222,
              "#7201a8"
             ],
             [
              0.3333333333333333,
              "#9c179e"
             ],
             [
              0.4444444444444444,
              "#bd3786"
             ],
             [
              0.5555555555555556,
              "#d8576b"
             ],
             [
              0.6666666666666666,
              "#ed7953"
             ],
             [
              0.7777777777777778,
              "#fb9f3a"
             ],
             [
              0.8888888888888888,
              "#fdca26"
             ],
             [
              1,
              "#f0f921"
             ]
            ],
            "type": "contour"
           }
          ],
          "contourcarpet": [
           {
            "colorbar": {
             "outlinewidth": 0,
             "ticks": ""
            },
            "type": "contourcarpet"
           }
          ],
          "heatmap": [
           {
            "colorbar": {
             "outlinewidth": 0,
             "ticks": ""
            },
            "colorscale": [
             [
              0,
              "#0d0887"
             ],
             [
              0.1111111111111111,
              "#46039f"
             ],
             [
              0.2222222222222222,
              "#7201a8"
             ],
             [
              0.3333333333333333,
              "#9c179e"
             ],
             [
              0.4444444444444444,
              "#bd3786"
             ],
             [
              0.5555555555555556,
              "#d8576b"
             ],
             [
              0.6666666666666666,
              "#ed7953"
             ],
             [
              0.7777777777777778,
              "#fb9f3a"
             ],
             [
              0.8888888888888888,
              "#fdca26"
             ],
             [
              1,
              "#f0f921"
             ]
            ],
            "type": "heatmap"
           }
          ],
          "heatmapgl": [
           {
            "colorbar": {
             "outlinewidth": 0,
             "ticks": ""
            },
            "colorscale": [
             [
              0,
              "#0d0887"
             ],
             [
              0.1111111111111111,
              "#46039f"
             ],
             [
              0.2222222222222222,
              "#7201a8"
             ],
             [
              0.3333333333333333,
              "#9c179e"
             ],
             [
              0.4444444444444444,
              "#bd3786"
             ],
             [
              0.5555555555555556,
              "#d8576b"
             ],
             [
              0.6666666666666666,
              "#ed7953"
             ],
             [
              0.7777777777777778,
              "#fb9f3a"
             ],
             [
              0.8888888888888888,
              "#fdca26"
             ],
             [
              1,
              "#f0f921"
             ]
            ],
            "type": "heatmapgl"
           }
          ],
          "histogram": [
           {
            "marker": {
             "pattern": {
              "fillmode": "overlay",
              "size": 10,
              "solidity": 0.2
             }
            },
            "type": "histogram"
           }
          ],
          "histogram2d": [
           {
            "colorbar": {
             "outlinewidth": 0,
             "ticks": ""
            },
            "colorscale": [
             [
              0,
              "#0d0887"
             ],
             [
              0.1111111111111111,
              "#46039f"
             ],
             [
              0.2222222222222222,
              "#7201a8"
             ],
             [
              0.3333333333333333,
              "#9c179e"
             ],
             [
              0.4444444444444444,
              "#bd3786"
             ],
             [
              0.5555555555555556,
              "#d8576b"
             ],
             [
              0.6666666666666666,
              "#ed7953"
             ],
             [
              0.7777777777777778,
              "#fb9f3a"
             ],
             [
              0.8888888888888888,
              "#fdca26"
             ],
             [
              1,
              "#f0f921"
             ]
            ],
            "type": "histogram2d"
           }
          ],
          "histogram2dcontour": [
           {
            "colorbar": {
             "outlinewidth": 0,
             "ticks": ""
            },
            "colorscale": [
             [
              0,
              "#0d0887"
             ],
             [
              0.1111111111111111,
              "#46039f"
             ],
             [
              0.2222222222222222,
              "#7201a8"
             ],
             [
              0.3333333333333333,
              "#9c179e"
             ],
             [
              0.4444444444444444,
              "#bd3786"
             ],
             [
              0.5555555555555556,
              "#d8576b"
             ],
             [
              0.6666666666666666,
              "#ed7953"
             ],
             [
              0.7777777777777778,
              "#fb9f3a"
             ],
             [
              0.8888888888888888,
              "#fdca26"
             ],
             [
              1,
              "#f0f921"
             ]
            ],
            "type": "histogram2dcontour"
           }
          ],
          "mesh3d": [
           {
            "colorbar": {
             "outlinewidth": 0,
             "ticks": ""
            },
            "type": "mesh3d"
           }
          ],
          "parcoords": [
           {
            "line": {
             "colorbar": {
              "outlinewidth": 0,
              "ticks": ""
             }
            },
            "type": "parcoords"
           }
          ],
          "pie": [
           {
            "automargin": true,
            "type": "pie"
           }
          ],
          "scatter": [
           {
            "marker": {
             "colorbar": {
              "outlinewidth": 0,
              "ticks": ""
             }
            },
            "type": "scatter"
           }
          ],
          "scatter3d": [
           {
            "line": {
             "colorbar": {
              "outlinewidth": 0,
              "ticks": ""
             }
            },
            "marker": {
             "colorbar": {
              "outlinewidth": 0,
              "ticks": ""
             }
            },
            "type": "scatter3d"
           }
          ],
          "scattercarpet": [
           {
            "marker": {
             "colorbar": {
              "outlinewidth": 0,
              "ticks": ""
             }
            },
            "type": "scattercarpet"
           }
          ],
          "scattergeo": [
           {
            "marker": {
             "colorbar": {
              "outlinewidth": 0,
              "ticks": ""
             }
            },
            "type": "scattergeo"
           }
          ],
          "scattergl": [
           {
            "marker": {
             "colorbar": {
              "outlinewidth": 0,
              "ticks": ""
             }
            },
            "type": "scattergl"
           }
          ],
          "scattermapbox": [
           {
            "marker": {
             "colorbar": {
              "outlinewidth": 0,
              "ticks": ""
             }
            },
            "type": "scattermapbox"
           }
          ],
          "scatterpolar": [
           {
            "marker": {
             "colorbar": {
              "outlinewidth": 0,
              "ticks": ""
             }
            },
            "type": "scatterpolar"
           }
          ],
          "scatterpolargl": [
           {
            "marker": {
             "colorbar": {
              "outlinewidth": 0,
              "ticks": ""
             }
            },
            "type": "scatterpolargl"
           }
          ],
          "scatterternary": [
           {
            "marker": {
             "colorbar": {
              "outlinewidth": 0,
              "ticks": ""
             }
            },
            "type": "scatterternary"
           }
          ],
          "surface": [
           {
            "colorbar": {
             "outlinewidth": 0,
             "ticks": ""
            },
            "colorscale": [
             [
              0,
              "#0d0887"
             ],
             [
              0.1111111111111111,
              "#46039f"
             ],
             [
              0.2222222222222222,
              "#7201a8"
             ],
             [
              0.3333333333333333,
              "#9c179e"
             ],
             [
              0.4444444444444444,
              "#bd3786"
             ],
             [
              0.5555555555555556,
              "#d8576b"
             ],
             [
              0.6666666666666666,
              "#ed7953"
             ],
             [
              0.7777777777777778,
              "#fb9f3a"
             ],
             [
              0.8888888888888888,
              "#fdca26"
             ],
             [
              1,
              "#f0f921"
             ]
            ],
            "type": "surface"
           }
          ],
          "table": [
           {
            "cells": {
             "fill": {
              "color": "#EBF0F8"
             },
             "line": {
              "color": "white"
             }
            },
            "header": {
             "fill": {
              "color": "#C8D4E3"
             },
             "line": {
              "color": "white"
             }
            },
            "type": "table"
           }
          ]
         },
         "layout": {
          "annotationdefaults": {
           "arrowcolor": "#2a3f5f",
           "arrowhead": 0,
           "arrowwidth": 1
          },
          "autotypenumbers": "strict",
          "coloraxis": {
           "colorbar": {
            "outlinewidth": 0,
            "ticks": ""
           }
          },
          "colorscale": {
           "diverging": [
            [
             0,
             "#8e0152"
            ],
            [
             0.1,
             "#c51b7d"
            ],
            [
             0.2,
             "#de77ae"
            ],
            [
             0.3,
             "#f1b6da"
            ],
            [
             0.4,
             "#fde0ef"
            ],
            [
             0.5,
             "#f7f7f7"
            ],
            [
             0.6,
             "#e6f5d0"
            ],
            [
             0.7,
             "#b8e186"
            ],
            [
             0.8,
             "#7fbc41"
            ],
            [
             0.9,
             "#4d9221"
            ],
            [
             1,
             "#276419"
            ]
           ],
           "sequential": [
            [
             0,
             "#0d0887"
            ],
            [
             0.1111111111111111,
             "#46039f"
            ],
            [
             0.2222222222222222,
             "#7201a8"
            ],
            [
             0.3333333333333333,
             "#9c179e"
            ],
            [
             0.4444444444444444,
             "#bd3786"
            ],
            [
             0.5555555555555556,
             "#d8576b"
            ],
            [
             0.6666666666666666,
             "#ed7953"
            ],
            [
             0.7777777777777778,
             "#fb9f3a"
            ],
            [
             0.8888888888888888,
             "#fdca26"
            ],
            [
             1,
             "#f0f921"
            ]
           ],
           "sequentialminus": [
            [
             0,
             "#0d0887"
            ],
            [
             0.1111111111111111,
             "#46039f"
            ],
            [
             0.2222222222222222,
             "#7201a8"
            ],
            [
             0.3333333333333333,
             "#9c179e"
            ],
            [
             0.4444444444444444,
             "#bd3786"
            ],
            [
             0.5555555555555556,
             "#d8576b"
            ],
            [
             0.6666666666666666,
             "#ed7953"
            ],
            [
             0.7777777777777778,
             "#fb9f3a"
            ],
            [
             0.8888888888888888,
             "#fdca26"
            ],
            [
             1,
             "#f0f921"
            ]
           ]
          },
          "colorway": [
           "#636efa",
           "#EF553B",
           "#00cc96",
           "#ab63fa",
           "#FFA15A",
           "#19d3f3",
           "#FF6692",
           "#B6E880",
           "#FF97FF",
           "#FECB52"
          ],
          "font": {
           "color": "#2a3f5f"
          },
          "geo": {
           "bgcolor": "white",
           "lakecolor": "white",
           "landcolor": "#E5ECF6",
           "showlakes": true,
           "showland": true,
           "subunitcolor": "white"
          },
          "hoverlabel": {
           "align": "left"
          },
          "hovermode": "closest",
          "mapbox": {
           "style": "light"
          },
          "paper_bgcolor": "white",
          "plot_bgcolor": "#E5ECF6",
          "polar": {
           "angularaxis": {
            "gridcolor": "white",
            "linecolor": "white",
            "ticks": ""
           },
           "bgcolor": "#E5ECF6",
           "radialaxis": {
            "gridcolor": "white",
            "linecolor": "white",
            "ticks": ""
           }
          },
          "scene": {
           "xaxis": {
            "backgroundcolor": "#E5ECF6",
            "gridcolor": "white",
            "gridwidth": 2,
            "linecolor": "white",
            "showbackground": true,
            "ticks": "",
            "zerolinecolor": "white"
           },
           "yaxis": {
            "backgroundcolor": "#E5ECF6",
            "gridcolor": "white",
            "gridwidth": 2,
            "linecolor": "white",
            "showbackground": true,
            "ticks": "",
            "zerolinecolor": "white"
           },
           "zaxis": {
            "backgroundcolor": "#E5ECF6",
            "gridcolor": "white",
            "gridwidth": 2,
            "linecolor": "white",
            "showbackground": true,
            "ticks": "",
            "zerolinecolor": "white"
           }
          },
          "shapedefaults": {
           "line": {
            "color": "#2a3f5f"
           }
          },
          "ternary": {
           "aaxis": {
            "gridcolor": "white",
            "linecolor": "white",
            "ticks": ""
           },
           "baxis": {
            "gridcolor": "white",
            "linecolor": "white",
            "ticks": ""
           },
           "bgcolor": "#E5ECF6",
           "caxis": {
            "gridcolor": "white",
            "linecolor": "white",
            "ticks": ""
           }
          },
          "title": {
           "x": 0.05
          },
          "xaxis": {
           "automargin": true,
           "gridcolor": "white",
           "linecolor": "white",
           "ticks": "",
           "title": {
            "standoff": 15
           },
           "zerolinecolor": "white",
           "zerolinewidth": 2
          },
          "yaxis": {
           "automargin": true,
           "gridcolor": "white",
           "linecolor": "white",
           "ticks": "",
           "title": {
            "standoff": 15
           },
           "zerolinecolor": "white",
           "zerolinewidth": 2
          }
         }
        },
        "title": {
         "text": "Grafica Sankey del algoritmo K-means"
        },
        "width": 800
       }
      },
      "text/html": [
       "<div>                            <div id=\"55ede1bc-9b1f-476e-b9f3-0e8b9d729ab1\" class=\"plotly-graph-div\" style=\"height:1300px; width:800px;\"></div>            <script type=\"text/javascript\">                require([\"plotly\"], function(Plotly) {                    window.PLOTLYENV=window.PLOTLYENV || {};                                    if (document.getElementById(\"55ede1bc-9b1f-476e-b9f3-0e8b9d729ab1\")) {                    Plotly.newPlot(                        \"55ede1bc-9b1f-476e-b9f3-0e8b9d729ab1\",                        [{\"link\":{\"color\":[\"aliceblue\",\"antiquewhite\",\"aqua\",\"aquamarine\",\"azure\",\"beige\",\"bisque\",\"black\",\"blanchedalmond\",\"blue\",\"blueviolet\",\"brown\",\"burlywood\",\"cadetblue\",\"chartreuse\",\"chocolate\",\"coral\",\"cornflowerblue\",\"cornsilk\",\"crimson\",\"cyan\",\"darkblue\",\"darkcyan\",\"darkgoldenrod\",\"darkgray\",\"darkgreen\",\"darkgrey\",\"darkkhaki\",\"darkmagenta\",\"darkolivegreen\",\"darkorange\",\"darkorchid\",\"darkred\",\"darksalmon\",\"darkseagreen\",\"darkslateblue\",\"darkslategray\",\"darkslategrey\",\"darkturquoise\",\"darkviolet\",\"deeppink\",\"deepskyblue\",\"dimgray\",\"dimgrey\",\"dodgerblue\",\"firebrick\",\"floralwhite\",\"forestgreen\",\"fuchsia\",\"gainsboro\",\"ghostwhite\",\"gold\",\"goldenrod\",\"gray\",\"green\",\"greenyellow\",\"grey\",\"honeydew\",\"hotpink\",\"indianred\",\"indigo\",\"ivory\",\"khaki\",\"lavender\",\"lavenderblush\",\"lawngreen\",\"lemonchiffon\",\"lightblue\",\"lightcoral\",\"lightcyan\",\"lightgoldenrodyellow\",\"lightgray\",\"lightgreen\",\"lightgrey\",\"lightpink\",\"lightsalmon\",\"lightseagreen\",\"lightskyblue\",\"lightslategray\",\"lightslategrey\",\"lightsteelblue\",\"lightyellow\",\"lime\",\"limegreen\",\"linen\",\"magenta\",\"maroon\",\"mediumaquamarine\",\"mediumblue\",\"mediumorchid\",\"mediumpurple\",\"mediumseagreen\",\"mediumslateblue\",\"mediumspringgreen\",\"mediumturquoise\",\"mediumvioletred\",\"midnightblue\",\"mintcream\",\"mistyrose\",\"moccasin\",\"navajowhite\",\"navy\",\"oldlace\",\"olive\",\"olivedrab\",\"orange\",\"orangered\",\"orchid\",\"palegoldenrod\",\"palegreen\",\"paleturquoise\",\"palevioletred\",\"papayawhip\",\"peachpuff\",\"peru\",\"pink\",\"plum\",\"powderblue\",\"purple\",\"rebeccapurple\",\"red\",\"rosybrown\",\"royalblue\",\"saddlebrown\",\"salmon\",\"sandybrown\",\"seagreen\",\"seashell\",\"sienna\",\"silver\",\"skyblue\",\"slateblue\",\"slategray\",\"slategrey\",\"snow\",\"springgreen\",\"steelblue\",\"tan\",\"teal\",\"thistle\",\"tomato\",\"turquoise\",\"violet\",\"wheat\",\"white\",\"whitesmoke\",\"yellow\",\"yellowgreen\"],\"source\":[0,1,2,3,4,5,6,7,8,9,10,11,12,13,14,15,16,17,18,19,20,21,22,23,24,25,26,27,28,29,30,31,32,33,34,35,36,37,38,39,40,41,42,43,44,45,46,47,48,49,50,51,52,53,54,55,56,57,58,59,60,61,62,63,64,65,66,67,68,69,70,71],\"target\":[85.0,120.0,85.0,73.0,73.0,85.0,85.0,85.0,85.0,95.0,94.0,98.0,103.0,121.0,102.0,120.0,118.0,90.0,120.0,102.0,113.0,113.0,113.0,113.0,113.0,81.0,81.0,120.0,104.0,102.0,102.0,77.0,78.0,77.0,79.0,114.0,109.0,114.0,106.0,108.0,87.0,87.0,89.0,103.0,76.0,76.0,96.0,114.0,119.0,114.0,119.0,114.0,114.0,116.0,72.0,112.0,107.0,92.0,92.0,92.0,92.0,114.0,117.0,99.0,115.0,115.0,75.0,75.0,75.0,101.0,110.0,72.0],\"value\":[49,9,13,30,48,32,10,59,22,76,30,31,77,14,121,14,178,45,35,24,13,10,19,18,11,24,53,14,139,61,19,15,33,13,73,17,15,92,10,124,26,156,20,98,16,25,25,103,22,14,24,12,39,14,26,95,59,21,51,29,12,53,20,79,57,14,35,20,12,121,128,106]},\"node\":{\"label\":[\"Acetobacteraceae\",\"Acholeplasmatales\",\"Actinomycetales\",\"Aeromonadaceae\",\"Alteromonadaceae\",\"Anaplasmataceae\",\"Aquificaceae\",\"Bacteroidia\",\"Bartonellaceae\",\"Bifidobacteriales\",\"Borreliaceae\",\"Bradyrhizobiaceae\",\"Brucellaceae\",\"Caulobacteraceae\",\"Chlamydiales\",\"Chlorobia\",\"Clostridiales\",\"Comamonadaceae\",\"Cytophagia\",\"Dehalococcoidales\",\"Deinococcales\",\"Desulfobacterales\",\"Desulfovibrionales\",\"Desulfuromonadales\",\"Ectothiorhodospiraceae\",\"Entomoplasmatales\",\"Erwiniaceae\",\"Erythrobacteraceae\",\"Flavobacteriia\",\"Francisellaceae\",\"Fusobacteriaceae\",\"Hafniaceae\",\"Halomonadaceae\",\"Hyphomicrobiaceae\",\"Legionellaceae\",\"Leptospiraceae\",\"Methylobacteriaceae\",\"Micrococcales\",\"Micromonosporales\",\"Moraxellaceae\",\"Morganellaceae\",\"Mycoplasmatales\",\"Myxococcales\",\"Neisseriaceae\",\"Nostocales\",\"Oscillatoriophycideae\",\"Oxalobacteraceae\",\"Pasteurellaceae\",\"Pectobacteriaceae\",\"Phyllobacteriaceae\",\"Piscirickettsiaceae\",\"Planctomycetales\",\"Propionibacteriales\",\"Pseudoalteromonadaceae\",\"Pseudonocardiales\",\"Rhizobiaceae\",\"Rhodobacteraceae\",\"Rhodospirillaceae\",\"Rickettsiaceae\",\"Shewanellaceae\",\"Sphingobacteriia\",\"Sphingomonadaceae\",\"Spirochaetaceae\",\"Streptomycetales\",\"Synechococcales\",\"Thermales\",\"Thermoanaerobacterales\",\"Thermotogaceae\",\"unclassified Burkholderiales\",\"Vibrionaceae\",\"Xanthomonadaceae\",\"Yersiniaceae\"],\"pad\":8,\"thickness\":15},\"type\":\"sankey\"}],                        {\"template\":{\"data\":{\"bar\":[{\"error_x\":{\"color\":\"#2a3f5f\"},\"error_y\":{\"color\":\"#2a3f5f\"},\"marker\":{\"line\":{\"color\":\"#E5ECF6\",\"width\":0.5},\"pattern\":{\"fillmode\":\"overlay\",\"size\":10,\"solidity\":0.2}},\"type\":\"bar\"}],\"barpolar\":[{\"marker\":{\"line\":{\"color\":\"#E5ECF6\",\"width\":0.5},\"pattern\":{\"fillmode\":\"overlay\",\"size\":10,\"solidity\":0.2}},\"type\":\"barpolar\"}],\"carpet\":[{\"aaxis\":{\"endlinecolor\":\"#2a3f5f\",\"gridcolor\":\"white\",\"linecolor\":\"white\",\"minorgridcolor\":\"white\",\"startlinecolor\":\"#2a3f5f\"},\"baxis\":{\"endlinecolor\":\"#2a3f5f\",\"gridcolor\":\"white\",\"linecolor\":\"white\",\"minorgridcolor\":\"white\",\"startlinecolor\":\"#2a3f5f\"},\"type\":\"carpet\"}],\"choropleth\":[{\"colorbar\":{\"outlinewidth\":0,\"ticks\":\"\"},\"type\":\"choropleth\"}],\"contour\":[{\"colorbar\":{\"outlinewidth\":0,\"ticks\":\"\"},\"colorscale\":[[0.0,\"#0d0887\"],[0.1111111111111111,\"#46039f\"],[0.2222222222222222,\"#7201a8\"],[0.3333333333333333,\"#9c179e\"],[0.4444444444444444,\"#bd3786\"],[0.5555555555555556,\"#d8576b\"],[0.6666666666666666,\"#ed7953\"],[0.7777777777777778,\"#fb9f3a\"],[0.8888888888888888,\"#fdca26\"],[1.0,\"#f0f921\"]],\"type\":\"contour\"}],\"contourcarpet\":[{\"colorbar\":{\"outlinewidth\":0,\"ticks\":\"\"},\"type\":\"contourcarpet\"}],\"heatmap\":[{\"colorbar\":{\"outlinewidth\":0,\"ticks\":\"\"},\"colorscale\":[[0.0,\"#0d0887\"],[0.1111111111111111,\"#46039f\"],[0.2222222222222222,\"#7201a8\"],[0.3333333333333333,\"#9c179e\"],[0.4444444444444444,\"#bd3786\"],[0.5555555555555556,\"#d8576b\"],[0.6666666666666666,\"#ed7953\"],[0.7777777777777778,\"#fb9f3a\"],[0.8888888888888888,\"#fdca26\"],[1.0,\"#f0f921\"]],\"type\":\"heatmap\"}],\"heatmapgl\":[{\"colorbar\":{\"outlinewidth\":0,\"ticks\":\"\"},\"colorscale\":[[0.0,\"#0d0887\"],[0.1111111111111111,\"#46039f\"],[0.2222222222222222,\"#7201a8\"],[0.3333333333333333,\"#9c179e\"],[0.4444444444444444,\"#bd3786\"],[0.5555555555555556,\"#d8576b\"],[0.6666666666666666,\"#ed7953\"],[0.7777777777777778,\"#fb9f3a\"],[0.8888888888888888,\"#fdca26\"],[1.0,\"#f0f921\"]],\"type\":\"heatmapgl\"}],\"histogram\":[{\"marker\":{\"pattern\":{\"fillmode\":\"overlay\",\"size\":10,\"solidity\":0.2}},\"type\":\"histogram\"}],\"histogram2d\":[{\"colorbar\":{\"outlinewidth\":0,\"ticks\":\"\"},\"colorscale\":[[0.0,\"#0d0887\"],[0.1111111111111111,\"#46039f\"],[0.2222222222222222,\"#7201a8\"],[0.3333333333333333,\"#9c179e\"],[0.4444444444444444,\"#bd3786\"],[0.5555555555555556,\"#d8576b\"],[0.6666666666666666,\"#ed7953\"],[0.7777777777777778,\"#fb9f3a\"],[0.8888888888888888,\"#fdca26\"],[1.0,\"#f0f921\"]],\"type\":\"histogram2d\"}],\"histogram2dcontour\":[{\"colorbar\":{\"outlinewidth\":0,\"ticks\":\"\"},\"colorscale\":[[0.0,\"#0d0887\"],[0.1111111111111111,\"#46039f\"],[0.2222222222222222,\"#7201a8\"],[0.3333333333333333,\"#9c179e\"],[0.4444444444444444,\"#bd3786\"],[0.5555555555555556,\"#d8576b\"],[0.6666666666666666,\"#ed7953\"],[0.7777777777777778,\"#fb9f3a\"],[0.8888888888888888,\"#fdca26\"],[1.0,\"#f0f921\"]],\"type\":\"histogram2dcontour\"}],\"mesh3d\":[{\"colorbar\":{\"outlinewidth\":0,\"ticks\":\"\"},\"type\":\"mesh3d\"}],\"parcoords\":[{\"line\":{\"colorbar\":{\"outlinewidth\":0,\"ticks\":\"\"}},\"type\":\"parcoords\"}],\"pie\":[{\"automargin\":true,\"type\":\"pie\"}],\"scatter\":[{\"marker\":{\"colorbar\":{\"outlinewidth\":0,\"ticks\":\"\"}},\"type\":\"scatter\"}],\"scatter3d\":[{\"line\":{\"colorbar\":{\"outlinewidth\":0,\"ticks\":\"\"}},\"marker\":{\"colorbar\":{\"outlinewidth\":0,\"ticks\":\"\"}},\"type\":\"scatter3d\"}],\"scattercarpet\":[{\"marker\":{\"colorbar\":{\"outlinewidth\":0,\"ticks\":\"\"}},\"type\":\"scattercarpet\"}],\"scattergeo\":[{\"marker\":{\"colorbar\":{\"outlinewidth\":0,\"ticks\":\"\"}},\"type\":\"scattergeo\"}],\"scattergl\":[{\"marker\":{\"colorbar\":{\"outlinewidth\":0,\"ticks\":\"\"}},\"type\":\"scattergl\"}],\"scattermapbox\":[{\"marker\":{\"colorbar\":{\"outlinewidth\":0,\"ticks\":\"\"}},\"type\":\"scattermapbox\"}],\"scatterpolar\":[{\"marker\":{\"colorbar\":{\"outlinewidth\":0,\"ticks\":\"\"}},\"type\":\"scatterpolar\"}],\"scatterpolargl\":[{\"marker\":{\"colorbar\":{\"outlinewidth\":0,\"ticks\":\"\"}},\"type\":\"scatterpolargl\"}],\"scatterternary\":[{\"marker\":{\"colorbar\":{\"outlinewidth\":0,\"ticks\":\"\"}},\"type\":\"scatterternary\"}],\"surface\":[{\"colorbar\":{\"outlinewidth\":0,\"ticks\":\"\"},\"colorscale\":[[0.0,\"#0d0887\"],[0.1111111111111111,\"#46039f\"],[0.2222222222222222,\"#7201a8\"],[0.3333333333333333,\"#9c179e\"],[0.4444444444444444,\"#bd3786\"],[0.5555555555555556,\"#d8576b\"],[0.6666666666666666,\"#ed7953\"],[0.7777777777777778,\"#fb9f3a\"],[0.8888888888888888,\"#fdca26\"],[1.0,\"#f0f921\"]],\"type\":\"surface\"}],\"table\":[{\"cells\":{\"fill\":{\"color\":\"#EBF0F8\"},\"line\":{\"color\":\"white\"}},\"header\":{\"fill\":{\"color\":\"#C8D4E3\"},\"line\":{\"color\":\"white\"}},\"type\":\"table\"}]},\"layout\":{\"annotationdefaults\":{\"arrowcolor\":\"#2a3f5f\",\"arrowhead\":0,\"arrowwidth\":1},\"autotypenumbers\":\"strict\",\"coloraxis\":{\"colorbar\":{\"outlinewidth\":0,\"ticks\":\"\"}},\"colorscale\":{\"diverging\":[[0,\"#8e0152\"],[0.1,\"#c51b7d\"],[0.2,\"#de77ae\"],[0.3,\"#f1b6da\"],[0.4,\"#fde0ef\"],[0.5,\"#f7f7f7\"],[0.6,\"#e6f5d0\"],[0.7,\"#b8e186\"],[0.8,\"#7fbc41\"],[0.9,\"#4d9221\"],[1,\"#276419\"]],\"sequential\":[[0.0,\"#0d0887\"],[0.1111111111111111,\"#46039f\"],[0.2222222222222222,\"#7201a8\"],[0.3333333333333333,\"#9c179e\"],[0.4444444444444444,\"#bd3786\"],[0.5555555555555556,\"#d8576b\"],[0.6666666666666666,\"#ed7953\"],[0.7777777777777778,\"#fb9f3a\"],[0.8888888888888888,\"#fdca26\"],[1.0,\"#f0f921\"]],\"sequentialminus\":[[0.0,\"#0d0887\"],[0.1111111111111111,\"#46039f\"],[0.2222222222222222,\"#7201a8\"],[0.3333333333333333,\"#9c179e\"],[0.4444444444444444,\"#bd3786\"],[0.5555555555555556,\"#d8576b\"],[0.6666666666666666,\"#ed7953\"],[0.7777777777777778,\"#fb9f3a\"],[0.8888888888888888,\"#fdca26\"],[1.0,\"#f0f921\"]]},\"colorway\":[\"#636efa\",\"#EF553B\",\"#00cc96\",\"#ab63fa\",\"#FFA15A\",\"#19d3f3\",\"#FF6692\",\"#B6E880\",\"#FF97FF\",\"#FECB52\"],\"font\":{\"color\":\"#2a3f5f\"},\"geo\":{\"bgcolor\":\"white\",\"lakecolor\":\"white\",\"landcolor\":\"#E5ECF6\",\"showlakes\":true,\"showland\":true,\"subunitcolor\":\"white\"},\"hoverlabel\":{\"align\":\"left\"},\"hovermode\":\"closest\",\"mapbox\":{\"style\":\"light\"},\"paper_bgcolor\":\"white\",\"plot_bgcolor\":\"#E5ECF6\",\"polar\":{\"angularaxis\":{\"gridcolor\":\"white\",\"linecolor\":\"white\",\"ticks\":\"\"},\"bgcolor\":\"#E5ECF6\",\"radialaxis\":{\"gridcolor\":\"white\",\"linecolor\":\"white\",\"ticks\":\"\"}},\"scene\":{\"xaxis\":{\"backgroundcolor\":\"#E5ECF6\",\"gridcolor\":\"white\",\"gridwidth\":2,\"linecolor\":\"white\",\"showbackground\":true,\"ticks\":\"\",\"zerolinecolor\":\"white\"},\"yaxis\":{\"backgroundcolor\":\"#E5ECF6\",\"gridcolor\":\"white\",\"gridwidth\":2,\"linecolor\":\"white\",\"showbackground\":true,\"ticks\":\"\",\"zerolinecolor\":\"white\"},\"zaxis\":{\"backgroundcolor\":\"#E5ECF6\",\"gridcolor\":\"white\",\"gridwidth\":2,\"linecolor\":\"white\",\"showbackground\":true,\"ticks\":\"\",\"zerolinecolor\":\"white\"}},\"shapedefaults\":{\"line\":{\"color\":\"#2a3f5f\"}},\"ternary\":{\"aaxis\":{\"gridcolor\":\"white\",\"linecolor\":\"white\",\"ticks\":\"\"},\"baxis\":{\"gridcolor\":\"white\",\"linecolor\":\"white\",\"ticks\":\"\"},\"bgcolor\":\"#E5ECF6\",\"caxis\":{\"gridcolor\":\"white\",\"linecolor\":\"white\",\"ticks\":\"\"}},\"title\":{\"x\":0.05},\"xaxis\":{\"automargin\":true,\"gridcolor\":\"white\",\"linecolor\":\"white\",\"ticks\":\"\",\"title\":{\"standoff\":15},\"zerolinecolor\":\"white\",\"zerolinewidth\":2},\"yaxis\":{\"automargin\":true,\"gridcolor\":\"white\",\"linecolor\":\"white\",\"ticks\":\"\",\"title\":{\"standoff\":15},\"zerolinecolor\":\"white\",\"zerolinewidth\":2}}},\"font\":{\"size\":12,\"color\":\"white\"},\"height\":1300,\"width\":800,\"title\":{\"text\":\"Grafica Sankey del algoritmo K-means\"},\"paper_bgcolor\":\"#51504F\"},                        {\"responsive\": true}                    ).then(function(){\n",
       "                            \n",
       "var gd = document.getElementById('55ede1bc-9b1f-476e-b9f3-0e8b9d729ab1');\n",
       "var x = new MutationObserver(function (mutations, observer) {{\n",
       "        var display = window.getComputedStyle(gd).display;\n",
       "        if (!display || display === 'none') {{\n",
       "            console.log([gd, 'removed!']);\n",
       "            Plotly.purge(gd);\n",
       "            observer.disconnect();\n",
       "        }}\n",
       "}});\n",
       "\n",
       "// Listen for the removal of the full notebook cells\n",
       "var notebookContainer = gd.closest('#notebook-container');\n",
       "if (notebookContainer) {{\n",
       "    x.observe(notebookContainer, {childList: true});\n",
       "}}\n",
       "\n",
       "// Listen for the clearing of the current output cell\n",
       "var outputEl = gd.closest('.output');\n",
       "if (outputEl) {{\n",
       "    x.observe(outputEl, {childList: true});\n",
       "}}\n",
       "\n",
       "                        })                };                });            </script>        </div>"
      ]
     },
     "metadata": {},
     "output_type": "display_data"
    }
   ],
   "source": [
    "import plotly.graph_objects as go \n",
    "  \n",
    "  \n",
    "plot = go.Figure(go.Sankey( \n",
    "    node = node,\n",
    "    link = link))\n",
    "  \n",
    "    \n",
    "plot.update_layout(height=1300,\n",
    "                   width=800,\n",
    "                  font = dict(size = 1, color ='white'),\n",
    "                   title = 'Grafica Sankey del algoritmo K-means',\n",
    "                   font_size = 12,\n",
    "                    paper_bgcolor='#51504F')\n",
    "plot.show()\n",
    "\n"
   ]
  },
  {
   "cell_type": "code",
   "execution_count": null,
   "metadata": {},
   "outputs": [],
   "source": []
  },
  {
   "cell_type": "code",
   "execution_count": null,
   "metadata": {},
   "outputs": [],
   "source": []
  },
  {
   "cell_type": "code",
   "execution_count": null,
   "metadata": {},
   "outputs": [],
   "source": []
  }
 ],
 "metadata": {
  "kernelspec": {
   "display_name": "myenv",
   "language": "python",
   "name": "myenv"
  },
  "language_info": {
   "codemirror_mode": {
    "name": "ipython",
    "version": 3
   },
   "file_extension": ".py",
   "mimetype": "text/x-python",
   "name": "python",
   "nbconvert_exporter": "python",
   "pygments_lexer": "ipython3",
   "version": "3.8.1"
  }
 },
 "nbformat": 4,
 "nbformat_minor": 2
}
